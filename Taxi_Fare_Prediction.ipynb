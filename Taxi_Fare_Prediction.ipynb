{
 "cells": [
  {
   "cell_type": "code",
   "execution_count": 1,
   "id": "15ddb642",
   "metadata": {},
   "outputs": [],
   "source": [
    "import pandas as pd\n",
    "import numpy as np\n",
    "import matplotlib.pyplot as plt\n",
    "import seaborn as sns\n",
    "\n",
    "from sklearn.pipeline import Pipeline\n",
    "from sklearn.compose import ColumnTransformer\n",
    "from sklearn import set_config\n",
    "from sklearn.impute import SimpleImputer\n",
    "from sklearn.preprocessing import StandardScaler\n",
    "\n",
    "from sklearn.metrics import confusion_matrix\n",
    "from sklearn.metrics import accuracy_score\n",
    "from sklearn.metrics import recall_score\n",
    "from sklearn.metrics import precision_score\n",
    "from sklearn.metrics import f1_score\n",
    "from sklearn.metrics import classification_report\n",
    "\n",
    "from sklearn.model_selection import GridSearchCV\n",
    "import pickle \n"
   ]
  },
  {
   "cell_type": "code",
   "execution_count": 2,
   "id": "e562b2d9",
   "metadata": {},
   "outputs": [
    {
     "data": {
      "text/html": [
       "<div>\n",
       "<style scoped>\n",
       "    .dataframe tbody tr th:only-of-type {\n",
       "        vertical-align: middle;\n",
       "    }\n",
       "\n",
       "    .dataframe tbody tr th {\n",
       "        vertical-align: top;\n",
       "    }\n",
       "\n",
       "    .dataframe thead th {\n",
       "        text-align: right;\n",
       "    }\n",
       "</style>\n",
       "<table border=\"1\" class=\"dataframe\">\n",
       "  <thead>\n",
       "    <tr style=\"text-align: right;\">\n",
       "      <th></th>\n",
       "      <th>From</th>\n",
       "      <th>To</th>\n",
       "      <th>Distance(km)</th>\n",
       "      <th>Fuel Price</th>\n",
       "      <th>Fuel Consumption</th>\n",
       "      <th>4 Seats</th>\n",
       "      <th>5 Seats</th>\n",
       "      <th>6 Seats</th>\n",
       "      <th>7 Seats</th>\n",
       "      <th>8 Seats</th>\n",
       "      <th>Fare (Nu)</th>\n",
       "    </tr>\n",
       "  </thead>\n",
       "  <tbody>\n",
       "    <tr>\n",
       "      <th>0</th>\n",
       "      <td>Dagana</td>\n",
       "      <td>Dagapela</td>\n",
       "      <td>43.0</td>\n",
       "      <td>82.12</td>\n",
       "      <td>8.6</td>\n",
       "      <td>258</td>\n",
       "      <td>206</td>\n",
       "      <td>172</td>\n",
       "      <td>147</td>\n",
       "      <td>129</td>\n",
       "      <td>1032</td>\n",
       "    </tr>\n",
       "    <tr>\n",
       "      <th>1</th>\n",
       "      <td>Samtse</td>\n",
       "      <td>Sipsu</td>\n",
       "      <td>46.0</td>\n",
       "      <td>82.12</td>\n",
       "      <td>9.2</td>\n",
       "      <td>276</td>\n",
       "      <td>221</td>\n",
       "      <td>184</td>\n",
       "      <td>158</td>\n",
       "      <td>138</td>\n",
       "      <td>1104</td>\n",
       "    </tr>\n",
       "    <tr>\n",
       "      <th>2</th>\n",
       "      <td>Thimphu</td>\n",
       "      <td>Paro</td>\n",
       "      <td>50.0</td>\n",
       "      <td>82.12</td>\n",
       "      <td>10.0</td>\n",
       "      <td>300</td>\n",
       "      <td>240</td>\n",
       "      <td>200</td>\n",
       "      <td>171</td>\n",
       "      <td>150</td>\n",
       "      <td>1200</td>\n",
       "    </tr>\n",
       "    <tr>\n",
       "      <th>3</th>\n",
       "      <td>Samtse</td>\n",
       "      <td>Dorokha</td>\n",
       "      <td>51.0</td>\n",
       "      <td>82.12</td>\n",
       "      <td>10.2</td>\n",
       "      <td>306</td>\n",
       "      <td>245</td>\n",
       "      <td>204</td>\n",
       "      <td>175</td>\n",
       "      <td>153</td>\n",
       "      <td>1224</td>\n",
       "    </tr>\n",
       "    <tr>\n",
       "      <th>4</th>\n",
       "      <td>Lhuentse</td>\n",
       "      <td>Metsho</td>\n",
       "      <td>52.0</td>\n",
       "      <td>82.12</td>\n",
       "      <td>10.4</td>\n",
       "      <td>312</td>\n",
       "      <td>250</td>\n",
       "      <td>208</td>\n",
       "      <td>178</td>\n",
       "      <td>156</td>\n",
       "      <td>1248</td>\n",
       "    </tr>\n",
       "    <tr>\n",
       "      <th>...</th>\n",
       "      <td>...</td>\n",
       "      <td>...</td>\n",
       "      <td>...</td>\n",
       "      <td>...</td>\n",
       "      <td>...</td>\n",
       "      <td>...</td>\n",
       "      <td>...</td>\n",
       "      <td>...</td>\n",
       "      <td>...</td>\n",
       "      <td>...</td>\n",
       "      <td>...</td>\n",
       "    </tr>\n",
       "    <tr>\n",
       "      <th>579</th>\n",
       "      <td>Nganglam</td>\n",
       "      <td>Dechheling</td>\n",
       "      <td>23.0</td>\n",
       "      <td>82.12</td>\n",
       "      <td>4.6</td>\n",
       "      <td>150</td>\n",
       "      <td>120</td>\n",
       "      <td>100</td>\n",
       "      <td>85</td>\n",
       "      <td>75</td>\n",
       "      <td>598</td>\n",
       "    </tr>\n",
       "    <tr>\n",
       "      <th>580</th>\n",
       "      <td>Nganglam</td>\n",
       "      <td>Norbugang</td>\n",
       "      <td>25.0</td>\n",
       "      <td>82.12</td>\n",
       "      <td>5.0</td>\n",
       "      <td>163</td>\n",
       "      <td>130</td>\n",
       "      <td>108</td>\n",
       "      <td>93</td>\n",
       "      <td>81</td>\n",
       "      <td>650</td>\n",
       "    </tr>\n",
       "    <tr>\n",
       "      <th>581</th>\n",
       "      <td>Nganglam</td>\n",
       "      <td>Yangbari</td>\n",
       "      <td>31.0</td>\n",
       "      <td>82.12</td>\n",
       "      <td>6.2</td>\n",
       "      <td>202</td>\n",
       "      <td>161</td>\n",
       "      <td>134</td>\n",
       "      <td>115</td>\n",
       "      <td>101</td>\n",
       "      <td>806</td>\n",
       "    </tr>\n",
       "    <tr>\n",
       "      <th>582</th>\n",
       "      <td>Nganglam</td>\n",
       "      <td>Mikuri</td>\n",
       "      <td>40.0</td>\n",
       "      <td>82.12</td>\n",
       "      <td>8.0</td>\n",
       "      <td>260</td>\n",
       "      <td>208</td>\n",
       "      <td>173</td>\n",
       "      <td>149</td>\n",
       "      <td>130</td>\n",
       "      <td>1040</td>\n",
       "    </tr>\n",
       "    <tr>\n",
       "      <th>583</th>\n",
       "      <td>Nganglam</td>\n",
       "      <td>Panbang</td>\n",
       "      <td>55.0</td>\n",
       "      <td>82.12</td>\n",
       "      <td>11.0</td>\n",
       "      <td>358</td>\n",
       "      <td>286</td>\n",
       "      <td>238</td>\n",
       "      <td>204</td>\n",
       "      <td>179</td>\n",
       "      <td>1430</td>\n",
       "    </tr>\n",
       "  </tbody>\n",
       "</table>\n",
       "<p>584 rows × 11 columns</p>\n",
       "</div>"
      ],
      "text/plain": [
       "         From          To  Distance(km)  Fuel Price  Fuel Consumption  \\\n",
       "0      Dagana    Dagapela          43.0       82.12               8.6   \n",
       "1      Samtse       Sipsu          46.0       82.12               9.2   \n",
       "2     Thimphu        Paro          50.0       82.12              10.0   \n",
       "3      Samtse     Dorokha          51.0       82.12              10.2   \n",
       "4    Lhuentse      Metsho          52.0       82.12              10.4   \n",
       "..        ...         ...           ...         ...               ...   \n",
       "579  Nganglam  Dechheling          23.0       82.12               4.6   \n",
       "580  Nganglam   Norbugang          25.0       82.12               5.0   \n",
       "581  Nganglam    Yangbari          31.0       82.12               6.2   \n",
       "582  Nganglam      Mikuri          40.0       82.12               8.0   \n",
       "583  Nganglam     Panbang          55.0       82.12              11.0   \n",
       "\n",
       "     4 Seats  5 Seats  6 Seats  7 Seats  8 Seats  Fare (Nu)  \n",
       "0        258      206      172      147      129       1032  \n",
       "1        276      221      184      158      138       1104  \n",
       "2        300      240      200      171      150       1200  \n",
       "3        306      245      204      175      153       1224  \n",
       "4        312      250      208      178      156       1248  \n",
       "..       ...      ...      ...      ...      ...        ...  \n",
       "579      150      120      100       85       75        598  \n",
       "580      163      130      108       93       81        650  \n",
       "581      202      161      134      115      101        806  \n",
       "582      260      208      173      149      130       1040  \n",
       "583      358      286      238      204      179       1430  \n",
       "\n",
       "[584 rows x 11 columns]"
      ]
     },
     "execution_count": 2,
     "metadata": {},
     "output_type": "execute_result"
    }
   ],
   "source": [
    "df = pd.read_excel('Data.xlsx')\n",
    "df"
   ]
  },
  {
   "cell_type": "code",
   "execution_count": 3,
   "id": "80068e10",
   "metadata": {},
   "outputs": [
    {
     "data": {
      "text/plain": [
       "From                0\n",
       "To                  0\n",
       "Distance(km)        0\n",
       "Fuel Price          0\n",
       "Fuel Consumption    0\n",
       "4 Seats             0\n",
       "5 Seats             0\n",
       "6 Seats             0\n",
       "7 Seats             0\n",
       "8 Seats             0\n",
       "Fare (Nu)           0\n",
       "dtype: int64"
      ]
     },
     "execution_count": 3,
     "metadata": {},
     "output_type": "execute_result"
    }
   ],
   "source": [
    "df.isna().sum()"
   ]
  },
  {
   "cell_type": "code",
   "execution_count": 4,
   "id": "e6a3a46b",
   "metadata": {},
   "outputs": [
    {
     "data": {
      "text/plain": [
       "From                 object\n",
       "To                   object\n",
       "Distance(km)        float64\n",
       "Fuel Price          float64\n",
       "Fuel Consumption    float64\n",
       "4 Seats               int64\n",
       "5 Seats               int64\n",
       "6 Seats               int64\n",
       "7 Seats               int64\n",
       "8 Seats               int64\n",
       "Fare (Nu)             int64\n",
       "dtype: object"
      ]
     },
     "execution_count": 4,
     "metadata": {},
     "output_type": "execute_result"
    }
   ],
   "source": [
    "df.dtypes"
   ]
  },
  {
   "cell_type": "code",
   "execution_count": 5,
   "id": "c4b3fe39",
   "metadata": {},
   "outputs": [
    {
     "name": "stdout",
     "output_type": "stream",
     "text": [
      "<class 'pandas.core.frame.DataFrame'>\n",
      "RangeIndex: 584 entries, 0 to 583\n",
      "Data columns (total 11 columns):\n",
      " #   Column            Non-Null Count  Dtype  \n",
      "---  ------            --------------  -----  \n",
      " 0   From              584 non-null    object \n",
      " 1   To                584 non-null    object \n",
      " 2   Distance(km)      584 non-null    float64\n",
      " 3   Fuel Price        584 non-null    float64\n",
      " 4   Fuel Consumption  584 non-null    float64\n",
      " 5   4 Seats           584 non-null    int64  \n",
      " 6   5 Seats           584 non-null    int64  \n",
      " 7   6 Seats           584 non-null    int64  \n",
      " 8   7 Seats           584 non-null    int64  \n",
      " 9   8 Seats           584 non-null    int64  \n",
      " 10  Fare (Nu)         584 non-null    int64  \n",
      "dtypes: float64(3), int64(6), object(2)\n",
      "memory usage: 50.3+ KB\n"
     ]
    }
   ],
   "source": [
    "df.info()"
   ]
  },
  {
   "cell_type": "code",
   "execution_count": 6,
   "id": "6fcf5301",
   "metadata": {},
   "outputs": [
    {
     "data": {
      "text/html": [
       "<div>\n",
       "<style scoped>\n",
       "    .dataframe tbody tr th:only-of-type {\n",
       "        vertical-align: middle;\n",
       "    }\n",
       "\n",
       "    .dataframe tbody tr th {\n",
       "        vertical-align: top;\n",
       "    }\n",
       "\n",
       "    .dataframe thead th {\n",
       "        text-align: right;\n",
       "    }\n",
       "</style>\n",
       "<table border=\"1\" class=\"dataframe\">\n",
       "  <thead>\n",
       "    <tr style=\"text-align: right;\">\n",
       "      <th></th>\n",
       "      <th>Distance(km)</th>\n",
       "      <th>Fuel Price</th>\n",
       "      <th>Fuel Consumption</th>\n",
       "      <th>4 Seats</th>\n",
       "      <th>5 Seats</th>\n",
       "      <th>6 Seats</th>\n",
       "      <th>7 Seats</th>\n",
       "      <th>8 Seats</th>\n",
       "      <th>Fare (Nu)</th>\n",
       "    </tr>\n",
       "  </thead>\n",
       "  <tbody>\n",
       "    <tr>\n",
       "      <th>count</th>\n",
       "      <td>584.000000</td>\n",
       "      <td>5.840000e+02</td>\n",
       "      <td>584.000000</td>\n",
       "      <td>584.000000</td>\n",
       "      <td>584.000000</td>\n",
       "      <td>584.000000</td>\n",
       "      <td>584.000000</td>\n",
       "      <td>584.000000</td>\n",
       "      <td>584.000000</td>\n",
       "    </tr>\n",
       "    <tr>\n",
       "      <th>mean</th>\n",
       "      <td>74.968322</td>\n",
       "      <td>8.212000e+01</td>\n",
       "      <td>14.993664</td>\n",
       "      <td>455.494863</td>\n",
       "      <td>364.321918</td>\n",
       "      <td>303.563356</td>\n",
       "      <td>260.217466</td>\n",
       "      <td>227.792808</td>\n",
       "      <td>1820.626712</td>\n",
       "    </tr>\n",
       "    <tr>\n",
       "      <th>std</th>\n",
       "      <td>125.637497</td>\n",
       "      <td>5.973676e-13</td>\n",
       "      <td>25.127499</td>\n",
       "      <td>752.211778</td>\n",
       "      <td>601.820873</td>\n",
       "      <td>501.515576</td>\n",
       "      <td>429.858853</td>\n",
       "      <td>376.083783</td>\n",
       "      <td>3009.514500</td>\n",
       "    </tr>\n",
       "    <tr>\n",
       "      <th>min</th>\n",
       "      <td>0.000000</td>\n",
       "      <td>8.212000e+01</td>\n",
       "      <td>0.000000</td>\n",
       "      <td>0.000000</td>\n",
       "      <td>0.000000</td>\n",
       "      <td>0.000000</td>\n",
       "      <td>0.000000</td>\n",
       "      <td>0.000000</td>\n",
       "      <td>0.000000</td>\n",
       "    </tr>\n",
       "    <tr>\n",
       "      <th>25%</th>\n",
       "      <td>5.750000</td>\n",
       "      <td>8.212000e+01</td>\n",
       "      <td>1.150000</td>\n",
       "      <td>33.000000</td>\n",
       "      <td>29.750000</td>\n",
       "      <td>24.250000</td>\n",
       "      <td>21.250000</td>\n",
       "      <td>16.000000</td>\n",
       "      <td>130.000000</td>\n",
       "    </tr>\n",
       "    <tr>\n",
       "      <th>50%</th>\n",
       "      <td>15.000000</td>\n",
       "      <td>8.212000e+01</td>\n",
       "      <td>3.000000</td>\n",
       "      <td>98.000000</td>\n",
       "      <td>78.000000</td>\n",
       "      <td>65.000000</td>\n",
       "      <td>56.000000</td>\n",
       "      <td>49.000000</td>\n",
       "      <td>377.000000</td>\n",
       "    </tr>\n",
       "    <tr>\n",
       "      <th>75%</th>\n",
       "      <td>78.000000</td>\n",
       "      <td>8.212000e+01</td>\n",
       "      <td>15.600000</td>\n",
       "      <td>477.750000</td>\n",
       "      <td>382.250000</td>\n",
       "      <td>318.000000</td>\n",
       "      <td>272.750000</td>\n",
       "      <td>238.500000</td>\n",
       "      <td>1909.500000</td>\n",
       "    </tr>\n",
       "    <tr>\n",
       "      <th>max</th>\n",
       "      <td>750.000000</td>\n",
       "      <td>8.212000e+01</td>\n",
       "      <td>150.000000</td>\n",
       "      <td>4500.000000</td>\n",
       "      <td>3600.000000</td>\n",
       "      <td>3000.000000</td>\n",
       "      <td>2571.000000</td>\n",
       "      <td>2250.000000</td>\n",
       "      <td>18000.000000</td>\n",
       "    </tr>\n",
       "  </tbody>\n",
       "</table>\n",
       "</div>"
      ],
      "text/plain": [
       "       Distance(km)    Fuel Price  Fuel Consumption      4 Seats      5 Seats  \\\n",
       "count    584.000000  5.840000e+02        584.000000   584.000000   584.000000   \n",
       "mean      74.968322  8.212000e+01         14.993664   455.494863   364.321918   \n",
       "std      125.637497  5.973676e-13         25.127499   752.211778   601.820873   \n",
       "min        0.000000  8.212000e+01          0.000000     0.000000     0.000000   \n",
       "25%        5.750000  8.212000e+01          1.150000    33.000000    29.750000   \n",
       "50%       15.000000  8.212000e+01          3.000000    98.000000    78.000000   \n",
       "75%       78.000000  8.212000e+01         15.600000   477.750000   382.250000   \n",
       "max      750.000000  8.212000e+01        150.000000  4500.000000  3600.000000   \n",
       "\n",
       "           6 Seats      7 Seats      8 Seats     Fare (Nu)  \n",
       "count   584.000000   584.000000   584.000000    584.000000  \n",
       "mean    303.563356   260.217466   227.792808   1820.626712  \n",
       "std     501.515576   429.858853   376.083783   3009.514500  \n",
       "min       0.000000     0.000000     0.000000      0.000000  \n",
       "25%      24.250000    21.250000    16.000000    130.000000  \n",
       "50%      65.000000    56.000000    49.000000    377.000000  \n",
       "75%     318.000000   272.750000   238.500000   1909.500000  \n",
       "max    3000.000000  2571.000000  2250.000000  18000.000000  "
      ]
     },
     "execution_count": 6,
     "metadata": {},
     "output_type": "execute_result"
    }
   ],
   "source": [
    "df.describe()"
   ]
  },
  {
   "cell_type": "code",
   "execution_count": 7,
   "id": "46bd9fb0",
   "metadata": {},
   "outputs": [],
   "source": [
    "ndf = df.select_dtypes(include = ['number'])\n",
    "ndf.drop(['4 Seats', '5 Seats', '6 Seats', '7 Seats', '8 Seats'], axis = 1, inplace = True)"
   ]
  },
  {
   "cell_type": "code",
   "execution_count": 8,
   "id": "f8873369",
   "metadata": {},
   "outputs": [
    {
     "data": {
      "text/html": [
       "<div>\n",
       "<style scoped>\n",
       "    .dataframe tbody tr th:only-of-type {\n",
       "        vertical-align: middle;\n",
       "    }\n",
       "\n",
       "    .dataframe tbody tr th {\n",
       "        vertical-align: top;\n",
       "    }\n",
       "\n",
       "    .dataframe thead th {\n",
       "        text-align: right;\n",
       "    }\n",
       "</style>\n",
       "<table border=\"1\" class=\"dataframe\">\n",
       "  <thead>\n",
       "    <tr style=\"text-align: right;\">\n",
       "      <th></th>\n",
       "      <th>Distance(km)</th>\n",
       "      <th>Fuel Price</th>\n",
       "      <th>Fuel Consumption</th>\n",
       "      <th>Fare (Nu)</th>\n",
       "    </tr>\n",
       "  </thead>\n",
       "  <tbody>\n",
       "    <tr>\n",
       "      <th>0</th>\n",
       "      <td>43.0</td>\n",
       "      <td>82.12</td>\n",
       "      <td>8.6</td>\n",
       "      <td>1032</td>\n",
       "    </tr>\n",
       "    <tr>\n",
       "      <th>1</th>\n",
       "      <td>46.0</td>\n",
       "      <td>82.12</td>\n",
       "      <td>9.2</td>\n",
       "      <td>1104</td>\n",
       "    </tr>\n",
       "    <tr>\n",
       "      <th>2</th>\n",
       "      <td>50.0</td>\n",
       "      <td>82.12</td>\n",
       "      <td>10.0</td>\n",
       "      <td>1200</td>\n",
       "    </tr>\n",
       "    <tr>\n",
       "      <th>3</th>\n",
       "      <td>51.0</td>\n",
       "      <td>82.12</td>\n",
       "      <td>10.2</td>\n",
       "      <td>1224</td>\n",
       "    </tr>\n",
       "    <tr>\n",
       "      <th>4</th>\n",
       "      <td>52.0</td>\n",
       "      <td>82.12</td>\n",
       "      <td>10.4</td>\n",
       "      <td>1248</td>\n",
       "    </tr>\n",
       "    <tr>\n",
       "      <th>...</th>\n",
       "      <td>...</td>\n",
       "      <td>...</td>\n",
       "      <td>...</td>\n",
       "      <td>...</td>\n",
       "    </tr>\n",
       "    <tr>\n",
       "      <th>579</th>\n",
       "      <td>23.0</td>\n",
       "      <td>82.12</td>\n",
       "      <td>4.6</td>\n",
       "      <td>598</td>\n",
       "    </tr>\n",
       "    <tr>\n",
       "      <th>580</th>\n",
       "      <td>25.0</td>\n",
       "      <td>82.12</td>\n",
       "      <td>5.0</td>\n",
       "      <td>650</td>\n",
       "    </tr>\n",
       "    <tr>\n",
       "      <th>581</th>\n",
       "      <td>31.0</td>\n",
       "      <td>82.12</td>\n",
       "      <td>6.2</td>\n",
       "      <td>806</td>\n",
       "    </tr>\n",
       "    <tr>\n",
       "      <th>582</th>\n",
       "      <td>40.0</td>\n",
       "      <td>82.12</td>\n",
       "      <td>8.0</td>\n",
       "      <td>1040</td>\n",
       "    </tr>\n",
       "    <tr>\n",
       "      <th>583</th>\n",
       "      <td>55.0</td>\n",
       "      <td>82.12</td>\n",
       "      <td>11.0</td>\n",
       "      <td>1430</td>\n",
       "    </tr>\n",
       "  </tbody>\n",
       "</table>\n",
       "<p>584 rows × 4 columns</p>\n",
       "</div>"
      ],
      "text/plain": [
       "     Distance(km)  Fuel Price  Fuel Consumption  Fare (Nu)\n",
       "0            43.0       82.12               8.6       1032\n",
       "1            46.0       82.12               9.2       1104\n",
       "2            50.0       82.12              10.0       1200\n",
       "3            51.0       82.12              10.2       1224\n",
       "4            52.0       82.12              10.4       1248\n",
       "..            ...         ...               ...        ...\n",
       "579          23.0       82.12               4.6        598\n",
       "580          25.0       82.12               5.0        650\n",
       "581          31.0       82.12               6.2        806\n",
       "582          40.0       82.12               8.0       1040\n",
       "583          55.0       82.12              11.0       1430\n",
       "\n",
       "[584 rows x 4 columns]"
      ]
     },
     "execution_count": 8,
     "metadata": {},
     "output_type": "execute_result"
    }
   ],
   "source": [
    "ndf"
   ]
  },
  {
   "cell_type": "code",
   "execution_count": 9,
   "id": "f31e27be",
   "metadata": {},
   "outputs": [
    {
     "data": {
      "text/plain": [
       "Distance(km)        0\n",
       "Fuel Price          0\n",
       "Fuel Consumption    0\n",
       "Fare (Nu)           0\n",
       "dtype: int64"
      ]
     },
     "execution_count": 9,
     "metadata": {},
     "output_type": "execute_result"
    }
   ],
   "source": [
    "ndf.isna().sum()"
   ]
  },
  {
   "cell_type": "code",
   "execution_count": 10,
   "id": "2df8f863",
   "metadata": {},
   "outputs": [
    {
     "name": "stderr",
     "output_type": "stream",
     "text": [
      "C:\\ProgramData\\Anaconda3\\lib\\site-packages\\seaborn\\_decorators.py:36: FutureWarning: Pass the following variable as a keyword arg: x. From version 0.12, the only valid positional argument will be `data`, and passing other arguments without an explicit keyword will result in an error or misinterpretation.\n",
      "  warnings.warn(\n"
     ]
    },
    {
     "data": {
      "image/png": "[encoded data removed]",
      "text/plain": [
       "<Figure size 432x288 with 1 Axes>"
      ]
     },
     "metadata": {
      "needs_background": "light"
     },
     "output_type": "display_data"
    }
   ],
   "source": [
    "sns.boxplot(ndf['Distance(km)'])\n",
    "plt.show()"
   ]
  },
  {
   "cell_type": "code",
   "execution_count": 11,
   "id": "4eead5f8",
   "metadata": {},
   "outputs": [
    {
     "name": "stderr",
     "output_type": "stream",
     "text": [
      "C:\\ProgramData\\Anaconda3\\lib\\site-packages\\seaborn\\_decorators.py:36: FutureWarning: Pass the following variable as a keyword arg: x. From version 0.12, the only valid positional argument will be `data`, and passing other arguments without an explicit keyword will result in an error or misinterpretation.\n",
      "  warnings.warn(\n"
     ]
    },
    {
     "data": {
      "image/png": "[encoded data removed]",
      "text/plain": [
       "<Figure size 432x288 with 1 Axes>"
      ]
     },
     "metadata": {
      "needs_background": "light"
     },
     "output_type": "display_data"
    }
   ],
   "source": [
    "sns.boxplot(ndf['Fuel Consumption'])\n",
    "plt.show()"
   ]
  },
  {
   "cell_type": "code",
   "execution_count": 12,
   "id": "05487369",
   "metadata": {},
   "outputs": [
    {
     "data": {
      "image/png": "[encoded data removed]",
      "text/plain": [
       "<Figure size 432x288 with 1 Axes>"
      ]
     },
     "metadata": {
      "needs_background": "light"
     },
     "output_type": "display_data"
    }
   ],
   "source": [
    "x = np.cbrt(ndf['Distance(km)'])\n",
    "plt.hist(x, bins = 20)\n",
    "plt.xlabel('Distance(km)')\n",
    "plt.show()"
   ]
  },
  {
   "cell_type": "code",
   "execution_count": 13,
   "id": "1c97fa62",
   "metadata": {},
   "outputs": [
    {
     "data": {
      "image/png": "[encoded data removed]",
      "text/plain": [
       "<Figure size 720x720 with 20 Axes>"
      ]
     },
     "metadata": {
      "needs_background": "light"
     },
     "output_type": "display_data"
    }
   ],
   "source": [
    "sns.pairplot(ndf)\n",
    "plt.show()"
   ]
  },
  {
   "cell_type": "code",
   "execution_count": 14,
   "id": "5ffee45d",
   "metadata": {},
   "outputs": [
    {
     "data": {
      "text/html": [
       "<div>\n",
       "<style scoped>\n",
       "    .dataframe tbody tr th:only-of-type {\n",
       "        vertical-align: middle;\n",
       "    }\n",
       "\n",
       "    .dataframe tbody tr th {\n",
       "        vertical-align: top;\n",
       "    }\n",
       "\n",
       "    .dataframe thead th {\n",
       "        text-align: right;\n",
       "    }\n",
       "</style>\n",
       "<table border=\"1\" class=\"dataframe\">\n",
       "  <thead>\n",
       "    <tr style=\"text-align: right;\">\n",
       "      <th></th>\n",
       "      <th>From</th>\n",
       "      <th>To</th>\n",
       "      <th>Distance(km)</th>\n",
       "      <th>Fuel Price</th>\n",
       "      <th>Fuel Consumption</th>\n",
       "      <th>4 Seats</th>\n",
       "      <th>5 Seats</th>\n",
       "      <th>6 Seats</th>\n",
       "      <th>7 Seats</th>\n",
       "      <th>8 Seats</th>\n",
       "      <th>Fare (Nu)</th>\n",
       "    </tr>\n",
       "  </thead>\n",
       "  <tbody>\n",
       "    <tr>\n",
       "      <th>0</th>\n",
       "      <td>3</td>\n",
       "      <td>Dagapela</td>\n",
       "      <td>43.0</td>\n",
       "      <td>82.12</td>\n",
       "      <td>8.6</td>\n",
       "      <td>258</td>\n",
       "      <td>206</td>\n",
       "      <td>172</td>\n",
       "      <td>147</td>\n",
       "      <td>129</td>\n",
       "      <td>1032</td>\n",
       "    </tr>\n",
       "    <tr>\n",
       "      <th>1</th>\n",
       "      <td>28</td>\n",
       "      <td>Sipsu</td>\n",
       "      <td>46.0</td>\n",
       "      <td>82.12</td>\n",
       "      <td>9.2</td>\n",
       "      <td>276</td>\n",
       "      <td>221</td>\n",
       "      <td>184</td>\n",
       "      <td>158</td>\n",
       "      <td>138</td>\n",
       "      <td>1104</td>\n",
       "    </tr>\n",
       "    <tr>\n",
       "      <th>2</th>\n",
       "      <td>35</td>\n",
       "      <td>Paro</td>\n",
       "      <td>50.0</td>\n",
       "      <td>82.12</td>\n",
       "      <td>10.0</td>\n",
       "      <td>300</td>\n",
       "      <td>240</td>\n",
       "      <td>200</td>\n",
       "      <td>171</td>\n",
       "      <td>150</td>\n",
       "      <td>1200</td>\n",
       "    </tr>\n",
       "    <tr>\n",
       "      <th>3</th>\n",
       "      <td>28</td>\n",
       "      <td>Dorokha</td>\n",
       "      <td>51.0</td>\n",
       "      <td>82.12</td>\n",
       "      <td>10.2</td>\n",
       "      <td>306</td>\n",
       "      <td>245</td>\n",
       "      <td>204</td>\n",
       "      <td>175</td>\n",
       "      <td>153</td>\n",
       "      <td>1224</td>\n",
       "    </tr>\n",
       "    <tr>\n",
       "      <th>4</th>\n",
       "      <td>14</td>\n",
       "      <td>Metsho</td>\n",
       "      <td>52.0</td>\n",
       "      <td>82.12</td>\n",
       "      <td>10.4</td>\n",
       "      <td>312</td>\n",
       "      <td>250</td>\n",
       "      <td>208</td>\n",
       "      <td>178</td>\n",
       "      <td>156</td>\n",
       "      <td>1248</td>\n",
       "    </tr>\n",
       "    <tr>\n",
       "      <th>...</th>\n",
       "      <td>...</td>\n",
       "      <td>...</td>\n",
       "      <td>...</td>\n",
       "      <td>...</td>\n",
       "      <td>...</td>\n",
       "      <td>...</td>\n",
       "      <td>...</td>\n",
       "      <td>...</td>\n",
       "      <td>...</td>\n",
       "      <td>...</td>\n",
       "      <td>...</td>\n",
       "    </tr>\n",
       "    <tr>\n",
       "      <th>579</th>\n",
       "      <td>17</td>\n",
       "      <td>Dechheling</td>\n",
       "      <td>23.0</td>\n",
       "      <td>82.12</td>\n",
       "      <td>4.6</td>\n",
       "      <td>150</td>\n",
       "      <td>120</td>\n",
       "      <td>100</td>\n",
       "      <td>85</td>\n",
       "      <td>75</td>\n",
       "      <td>598</td>\n",
       "    </tr>\n",
       "    <tr>\n",
       "      <th>580</th>\n",
       "      <td>17</td>\n",
       "      <td>Norbugang</td>\n",
       "      <td>25.0</td>\n",
       "      <td>82.12</td>\n",
       "      <td>5.0</td>\n",
       "      <td>163</td>\n",
       "      <td>130</td>\n",
       "      <td>108</td>\n",
       "      <td>93</td>\n",
       "      <td>81</td>\n",
       "      <td>650</td>\n",
       "    </tr>\n",
       "    <tr>\n",
       "      <th>581</th>\n",
       "      <td>17</td>\n",
       "      <td>Yangbari</td>\n",
       "      <td>31.0</td>\n",
       "      <td>82.12</td>\n",
       "      <td>6.2</td>\n",
       "      <td>202</td>\n",
       "      <td>161</td>\n",
       "      <td>134</td>\n",
       "      <td>115</td>\n",
       "      <td>101</td>\n",
       "      <td>806</td>\n",
       "    </tr>\n",
       "    <tr>\n",
       "      <th>582</th>\n",
       "      <td>17</td>\n",
       "      <td>Mikuri</td>\n",
       "      <td>40.0</td>\n",
       "      <td>82.12</td>\n",
       "      <td>8.0</td>\n",
       "      <td>260</td>\n",
       "      <td>208</td>\n",
       "      <td>173</td>\n",
       "      <td>149</td>\n",
       "      <td>130</td>\n",
       "      <td>1040</td>\n",
       "    </tr>\n",
       "    <tr>\n",
       "      <th>583</th>\n",
       "      <td>17</td>\n",
       "      <td>Panbang</td>\n",
       "      <td>55.0</td>\n",
       "      <td>82.12</td>\n",
       "      <td>11.0</td>\n",
       "      <td>358</td>\n",
       "      <td>286</td>\n",
       "      <td>238</td>\n",
       "      <td>204</td>\n",
       "      <td>179</td>\n",
       "      <td>1430</td>\n",
       "    </tr>\n",
       "  </tbody>\n",
       "</table>\n",
       "<p>584 rows × 11 columns</p>\n",
       "</div>"
      ],
      "text/plain": [
       "     From          To  Distance(km)  Fuel Price  Fuel Consumption  4 Seats  \\\n",
       "0       3    Dagapela          43.0       82.12               8.6      258   \n",
       "1      28       Sipsu          46.0       82.12               9.2      276   \n",
       "2      35        Paro          50.0       82.12              10.0      300   \n",
       "3      28     Dorokha          51.0       82.12              10.2      306   \n",
       "4      14      Metsho          52.0       82.12              10.4      312   \n",
       "..    ...         ...           ...         ...               ...      ...   \n",
       "579    17  Dechheling          23.0       82.12               4.6      150   \n",
       "580    17   Norbugang          25.0       82.12               5.0      163   \n",
       "581    17    Yangbari          31.0       82.12               6.2      202   \n",
       "582    17      Mikuri          40.0       82.12               8.0      260   \n",
       "583    17     Panbang          55.0       82.12              11.0      358   \n",
       "\n",
       "     5 Seats  6 Seats  7 Seats  8 Seats  Fare (Nu)  \n",
       "0        206      172      147      129       1032  \n",
       "1        221      184      158      138       1104  \n",
       "2        240      200      171      150       1200  \n",
       "3        245      204      175      153       1224  \n",
       "4        250      208      178      156       1248  \n",
       "..       ...      ...      ...      ...        ...  \n",
       "579      120      100       85       75        598  \n",
       "580      130      108       93       81        650  \n",
       "581      161      134      115      101        806  \n",
       "582      208      173      149      130       1040  \n",
       "583      286      238      204      179       1430  \n",
       "\n",
       "[584 rows x 11 columns]"
      ]
     },
     "execution_count": 14,
     "metadata": {},
     "output_type": "execute_result"
    }
   ],
   "source": [
    "from sklearn.preprocessing import LabelEncoder\n",
    "le =  LabelEncoder()\n",
    "df['From'] = le.fit_transform(df.From)\n",
    "df"
   ]
  },
  {
   "cell_type": "code",
   "execution_count": 15,
   "id": "238886a9",
   "metadata": {},
   "outputs": [
    {
     "data": {
      "text/html": [
       "<div>\n",
       "<style scoped>\n",
       "    .dataframe tbody tr th:only-of-type {\n",
       "        vertical-align: middle;\n",
       "    }\n",
       "\n",
       "    .dataframe tbody tr th {\n",
       "        vertical-align: top;\n",
       "    }\n",
       "\n",
       "    .dataframe thead th {\n",
       "        text-align: right;\n",
       "    }\n",
       "</style>\n",
       "<table border=\"1\" class=\"dataframe\">\n",
       "  <thead>\n",
       "    <tr style=\"text-align: right;\">\n",
       "      <th></th>\n",
       "      <th>From</th>\n",
       "      <th>To</th>\n",
       "      <th>Distance(km)</th>\n",
       "      <th>Fuel Price</th>\n",
       "      <th>Fuel Consumption</th>\n",
       "      <th>4 Seats</th>\n",
       "      <th>5 Seats</th>\n",
       "      <th>6 Seats</th>\n",
       "      <th>7 Seats</th>\n",
       "      <th>8 Seats</th>\n",
       "      <th>Fare (Nu)</th>\n",
       "    </tr>\n",
       "  </thead>\n",
       "  <tbody>\n",
       "    <tr>\n",
       "      <th>0</th>\n",
       "      <td>3</td>\n",
       "      <td>66</td>\n",
       "      <td>43.0</td>\n",
       "      <td>82.12</td>\n",
       "      <td>8.6</td>\n",
       "      <td>258</td>\n",
       "      <td>206</td>\n",
       "      <td>172</td>\n",
       "      <td>147</td>\n",
       "      <td>129</td>\n",
       "      <td>1032</td>\n",
       "    </tr>\n",
       "    <tr>\n",
       "      <th>1</th>\n",
       "      <td>28</td>\n",
       "      <td>357</td>\n",
       "      <td>46.0</td>\n",
       "      <td>82.12</td>\n",
       "      <td>9.2</td>\n",
       "      <td>276</td>\n",
       "      <td>221</td>\n",
       "      <td>184</td>\n",
       "      <td>158</td>\n",
       "      <td>138</td>\n",
       "      <td>1104</td>\n",
       "    </tr>\n",
       "    <tr>\n",
       "      <th>2</th>\n",
       "      <td>35</td>\n",
       "      <td>281</td>\n",
       "      <td>50.0</td>\n",
       "      <td>82.12</td>\n",
       "      <td>10.0</td>\n",
       "      <td>300</td>\n",
       "      <td>240</td>\n",
       "      <td>200</td>\n",
       "      <td>171</td>\n",
       "      <td>150</td>\n",
       "      <td>1200</td>\n",
       "    </tr>\n",
       "    <tr>\n",
       "      <th>3</th>\n",
       "      <td>28</td>\n",
       "      <td>85</td>\n",
       "      <td>51.0</td>\n",
       "      <td>82.12</td>\n",
       "      <td>10.2</td>\n",
       "      <td>306</td>\n",
       "      <td>245</td>\n",
       "      <td>204</td>\n",
       "      <td>175</td>\n",
       "      <td>153</td>\n",
       "      <td>1224</td>\n",
       "    </tr>\n",
       "    <tr>\n",
       "      <th>4</th>\n",
       "      <td>14</td>\n",
       "      <td>234</td>\n",
       "      <td>52.0</td>\n",
       "      <td>82.12</td>\n",
       "      <td>10.4</td>\n",
       "      <td>312</td>\n",
       "      <td>250</td>\n",
       "      <td>208</td>\n",
       "      <td>178</td>\n",
       "      <td>156</td>\n",
       "      <td>1248</td>\n",
       "    </tr>\n",
       "    <tr>\n",
       "      <th>...</th>\n",
       "      <td>...</td>\n",
       "      <td>...</td>\n",
       "      <td>...</td>\n",
       "      <td>...</td>\n",
       "      <td>...</td>\n",
       "      <td>...</td>\n",
       "      <td>...</td>\n",
       "      <td>...</td>\n",
       "      <td>...</td>\n",
       "      <td>...</td>\n",
       "      <td>...</td>\n",
       "    </tr>\n",
       "    <tr>\n",
       "      <th>579</th>\n",
       "      <td>17</td>\n",
       "      <td>80</td>\n",
       "      <td>23.0</td>\n",
       "      <td>82.12</td>\n",
       "      <td>4.6</td>\n",
       "      <td>150</td>\n",
       "      <td>120</td>\n",
       "      <td>100</td>\n",
       "      <td>85</td>\n",
       "      <td>75</td>\n",
       "      <td>598</td>\n",
       "    </tr>\n",
       "    <tr>\n",
       "      <th>580</th>\n",
       "      <td>17</td>\n",
       "      <td>269</td>\n",
       "      <td>25.0</td>\n",
       "      <td>82.12</td>\n",
       "      <td>5.0</td>\n",
       "      <td>163</td>\n",
       "      <td>130</td>\n",
       "      <td>108</td>\n",
       "      <td>93</td>\n",
       "      <td>81</td>\n",
       "      <td>650</td>\n",
       "    </tr>\n",
       "    <tr>\n",
       "      <th>581</th>\n",
       "      <td>17</td>\n",
       "      <td>429</td>\n",
       "      <td>31.0</td>\n",
       "      <td>82.12</td>\n",
       "      <td>6.2</td>\n",
       "      <td>202</td>\n",
       "      <td>161</td>\n",
       "      <td>134</td>\n",
       "      <td>115</td>\n",
       "      <td>101</td>\n",
       "      <td>806</td>\n",
       "    </tr>\n",
       "    <tr>\n",
       "      <th>582</th>\n",
       "      <td>17</td>\n",
       "      <td>235</td>\n",
       "      <td>40.0</td>\n",
       "      <td>82.12</td>\n",
       "      <td>8.0</td>\n",
       "      <td>260</td>\n",
       "      <td>208</td>\n",
       "      <td>173</td>\n",
       "      <td>149</td>\n",
       "      <td>130</td>\n",
       "      <td>1040</td>\n",
       "    </tr>\n",
       "    <tr>\n",
       "      <th>583</th>\n",
       "      <td>17</td>\n",
       "      <td>275</td>\n",
       "      <td>55.0</td>\n",
       "      <td>82.12</td>\n",
       "      <td>11.0</td>\n",
       "      <td>358</td>\n",
       "      <td>286</td>\n",
       "      <td>238</td>\n",
       "      <td>204</td>\n",
       "      <td>179</td>\n",
       "      <td>1430</td>\n",
       "    </tr>\n",
       "  </tbody>\n",
       "</table>\n",
       "<p>584 rows × 11 columns</p>\n",
       "</div>"
      ],
      "text/plain": [
       "     From   To  Distance(km)  Fuel Price  Fuel Consumption  4 Seats  5 Seats  \\\n",
       "0       3   66          43.0       82.12               8.6      258      206   \n",
       "1      28  357          46.0       82.12               9.2      276      221   \n",
       "2      35  281          50.0       82.12              10.0      300      240   \n",
       "3      28   85          51.0       82.12              10.2      306      245   \n",
       "4      14  234          52.0       82.12              10.4      312      250   \n",
       "..    ...  ...           ...         ...               ...      ...      ...   \n",
       "579    17   80          23.0       82.12               4.6      150      120   \n",
       "580    17  269          25.0       82.12               5.0      163      130   \n",
       "581    17  429          31.0       82.12               6.2      202      161   \n",
       "582    17  235          40.0       82.12               8.0      260      208   \n",
       "583    17  275          55.0       82.12              11.0      358      286   \n",
       "\n",
       "     6 Seats  7 Seats  8 Seats  Fare (Nu)  \n",
       "0        172      147      129       1032  \n",
       "1        184      158      138       1104  \n",
       "2        200      171      150       1200  \n",
       "3        204      175      153       1224  \n",
       "4        208      178      156       1248  \n",
       "..       ...      ...      ...        ...  \n",
       "579      100       85       75        598  \n",
       "580      108       93       81        650  \n",
       "581      134      115      101        806  \n",
       "582      173      149      130       1040  \n",
       "583      238      204      179       1430  \n",
       "\n",
       "[584 rows x 11 columns]"
      ]
     },
     "execution_count": 15,
     "metadata": {},
     "output_type": "execute_result"
    }
   ],
   "source": [
    "from sklearn.preprocessing import LabelEncoder\n",
    "le =  LabelEncoder()\n",
    "df['To'] = le.fit_transform(df.To)\n",
    "df"
   ]
  },
  {
   "cell_type": "code",
   "execution_count": 16,
   "id": "7d96b214",
   "metadata": {},
   "outputs": [
    {
     "data": {
      "text/plain": [
       "Text(0, 0.5, 'Fare (Nu)')"
      ]
     },
     "execution_count": 16,
     "metadata": {},
     "output_type": "execute_result"
    },
    {
     "data": {
      "image/png": "[encoded data removed]",
      "text/plain": [
       "<Figure size 1008x576 with 3 Axes>"
      ]
     },
     "metadata": {
      "needs_background": "light"
     },
     "output_type": "display_data"
    }
   ],
   "source": [
    "plt.figure(figsize=(14, 8))\n",
    "plt.subplot(2, 2, 1)\n",
    "plt.scatter(x=df[\"Distance(km)\"], y=df[\"Fare (Nu)\"])\n",
    "plt.xlabel(\"Distance (km)\")\n",
    "plt.ylabel(\"Fare (Nu)\")\n",
    "\n",
    "plt.subplot(2, 2, 2)\n",
    "plt.scatter(x=df[\"Fuel Price\"], y=df[\"Fare (Nu)\"])\n",
    "plt.xlabel(\"Fuel Price\")\n",
    "plt.ylabel(\"Fare (Nu)\")\n",
    "\n",
    "plt.subplot(2, 2, 3)\n",
    "plt.scatter(x=df[\"Fuel Consumption\"], y=df[\"Fare (Nu)\"])\n",
    "plt.xlabel(\"Fuel Consumption\")\n",
    "plt.ylabel(\"Fare (Nu)\")"
   ]
  },
  {
   "cell_type": "code",
   "execution_count": 17,
   "id": "afedbeb2",
   "metadata": {},
   "outputs": [
    {
     "data": {
      "image/png": "[encoded data removed]",
      "text/plain": [
       "<Figure size 720x504 with 2 Axes>"
      ]
     },
     "metadata": {},
     "output_type": "display_data"
    }
   ],
   "source": [
    "corr = df.corr()\n",
    "sns.set(rc={'figure.figsize':(10,7)})\n",
    "sns.heatmap(data= corr,annot=True)\n",
    "plt.show()"
   ]
  },
  {
   "cell_type": "code",
   "execution_count": 18,
   "id": "2783da7f",
   "metadata": {},
   "outputs": [
    {
     "data": {
      "text/plain": [
       "To                  0.105203\n",
       "From                0.204913\n",
       "Distance(km)        0.999930\n",
       "Fuel Consumption    0.999930\n",
       "8 Seats             0.999994\n",
       "6 Seats             0.999995\n",
       "4 Seats             0.999995\n",
       "7 Seats             0.999995\n",
       "5 Seats             0.999995\n",
       "Fare (Nu)           1.000000\n",
       "Fuel Price               NaN\n",
       "Name: Fare (Nu), dtype: float64"
      ]
     },
     "execution_count": 18,
     "metadata": {},
     "output_type": "execute_result"
    }
   ],
   "source": [
    "df.corr()['Fare (Nu)'].sort_values()"
   ]
  },
  {
   "cell_type": "code",
   "execution_count": 19,
   "id": "306bf5ad",
   "metadata": {},
   "outputs": [],
   "source": [
    "arg = [\"From\",\"To\",\"km\",\"fuel_price\", \"fuel_consumption\"]"
   ]
  },
  {
   "cell_type": "code",
   "execution_count": 20,
   "id": "074fb953",
   "metadata": {},
   "outputs": [],
   "source": [
    "from sklearn.model_selection import train_test_split\n",
    "X = df.iloc[: , 0:5 ]\n",
    "Y = df.iloc[:, -1]\n",
    "\n",
    "X_train, X_test, y_train, y_test = train_test_split(X, Y, test_size=0.3, random_state = 5)"
   ]
  },
  {
   "cell_type": "code",
   "execution_count": 21,
   "id": "6e1e4b0c",
   "metadata": {},
   "outputs": [
    {
     "data": {
      "text/plain": [
       "KNeighborsRegressor(n_neighbors=10)"
      ]
     },
     "execution_count": 21,
     "metadata": {},
     "output_type": "execute_result"
    }
   ],
   "source": [
    "from sklearn.neighbors import KNeighborsRegressor\n",
    "from sklearn.metrics import mean_squared_error\n",
    "knnr = KNeighborsRegressor(n_neighbors = 10)\n",
    "knnr.fit(X_train,y_train)"
   ]
  },
  {
   "cell_type": "code",
   "execution_count": 22,
   "id": "0c462ac2",
   "metadata": {},
   "outputs": [],
   "source": [
    "y_pred = knnr.predict(X_test) "
   ]
  },
  {
   "cell_type": "code",
   "execution_count": 23,
   "id": "a7d4df9f",
   "metadata": {},
   "outputs": [],
   "source": [
    "trainscore = []\n",
    "testscore = []\n",
    "for k in range(1,40):\n",
    "    knn = KNeighborsRegressor(n_neighbors=k)\n",
    "    knn.fit(X_train, y_train)\n",
    "    knn.score(X_train,y_train)\n",
    "    knn.score(X_test,y_test)\n",
    "    trainscore.append(knn.score(X_train, y_train))\n",
    "    testscore.append(knn.score(X_test, y_test))"
   ]
  },
  {
   "cell_type": "code",
   "execution_count": 24,
   "id": "c3c6aea1",
   "metadata": {},
   "outputs": [
    {
     "data": {
      "text/plain": [
       "0.9139798584321616"
      ]
     },
     "execution_count": 24,
     "metadata": {},
     "output_type": "execute_result"
    }
   ],
   "source": [
    "knn.score(X_train, y_train)"
   ]
  },
  {
   "cell_type": "code",
   "execution_count": 25,
   "id": "e1a99fc4",
   "metadata": {},
   "outputs": [
    {
     "data": {
      "text/plain": [
       "0.9304907066186039"
      ]
     },
     "execution_count": 25,
     "metadata": {},
     "output_type": "execute_result"
    }
   ],
   "source": [
    "knn.score(X_test, y_test)"
   ]
  },
  {
   "cell_type": "code",
   "execution_count": 26,
   "id": "d081362e",
   "metadata": {},
   "outputs": [
    {
     "data": {
      "text/plain": [
       "59512.68772727274"
      ]
     },
     "execution_count": 26,
     "metadata": {},
     "output_type": "execute_result"
    }
   ],
   "source": [
    "knnrg = KNeighborsRegressor(n_neighbors = 10)\n",
    "knnrg.fit(X_train,y_train)\n",
    "y_pred = knnrg.predict(X_test)\n",
    "MSE = mean_squared_error(y_test,y_pred)\n",
    "MSE"
   ]
  },
  {
   "cell_type": "code",
   "execution_count": 27,
   "id": "bc1304c7",
   "metadata": {},
   "outputs": [
    {
     "name": "stdout",
     "output_type": "stream",
     "text": [
      "Knn R-squared: 0.9928082627380084\n"
     ]
    }
   ],
   "source": [
    "from sklearn.metrics import r2_score\n",
    "knnrg_r2 = r2_score(y_test, y_pred)\n",
    "print(\"Knn R-squared: {}\".format(knnrg_r2))"
   ]
  },
  {
   "cell_type": "code",
   "execution_count": 28,
   "id": "4c9024b0",
   "metadata": {},
   "outputs": [
    {
     "name": "stderr",
     "output_type": "stream",
     "text": [
      "C:\\ProgramData\\Anaconda3\\lib\\site-packages\\sklearn\\base.py:450: UserWarning: X does not have valid feature names, but KNeighborsRegressor was fitted with feature names\n",
      "  warnings.warn(\n"
     ]
    },
    {
     "data": {
      "text/plain": [
       "array([334.1025641])"
      ]
     },
     "execution_count": 28,
     "metadata": {},
     "output_type": "execute_result"
    }
   ],
   "source": [
    "y = np.array([2,2,30,92.01,2.4])\n",
    "np = y.reshape(-1,5)\n",
    "knn.predict(np)"
   ]
  },
  {
   "cell_type": "code",
   "execution_count": 29,
   "id": "87805945",
   "metadata": {},
   "outputs": [
    {
     "data": {
      "text/plain": [
       "LinearRegression()"
      ]
     },
     "execution_count": 29,
     "metadata": {},
     "output_type": "execute_result"
    }
   ],
   "source": [
    "from sklearn.linear_model import LinearRegression\n",
    "regressor = LinearRegression()\n",
    "regressor.fit(X_train, y_train)"
   ]
  },
  {
   "cell_type": "code",
   "execution_count": 30,
   "id": "63b1a200",
   "metadata": {},
   "outputs": [],
   "source": [
    "y_pred = regressor.predict(X_test)"
   ]
  },
  {
   "cell_type": "code",
   "execution_count": 31,
   "id": "4f13616d",
   "metadata": {},
   "outputs": [
    {
     "data": {
      "text/plain": [
       "0.9998741059304139"
      ]
     },
     "execution_count": 31,
     "metadata": {},
     "output_type": "execute_result"
    }
   ],
   "source": [
    "regressor.score(X_train,y_train)"
   ]
  },
  {
   "cell_type": "code",
   "execution_count": 32,
   "id": "ba265328",
   "metadata": {},
   "outputs": [
    {
     "data": {
      "text/plain": [
       "0.9998374323549128"
      ]
     },
     "execution_count": 32,
     "metadata": {},
     "output_type": "execute_result"
    }
   ],
   "source": [
    "regressor.score(X_test,y_test)"
   ]
  },
  {
   "cell_type": "code",
   "execution_count": 33,
   "id": "0b1e9f39",
   "metadata": {},
   "outputs": [
    {
     "name": "stdout",
     "output_type": "stream",
     "text": [
      "Multiple Regression R-squared: 0.9998374323549128\n"
     ]
    }
   ],
   "source": [
    "from sklearn.metrics import r2_score\n",
    "multir_r2 = r2_score(y_test, y_pred)\n",
    "\n",
    "print(\"Multiple Regression R-squared: {}\".format(multir_r2))"
   ]
  },
  {
   "cell_type": "code",
   "execution_count": 34,
   "id": "9453ea88",
   "metadata": {},
   "outputs": [
    {
     "name": "stdout",
     "output_type": "stream",
     "text": [
      "Multiple Regression RMSE: 36.677939783441815\n"
     ]
    }
   ],
   "source": [
    "import numpy as np\n",
    "from sklearn.metrics import mean_squared_error\n",
    "\n",
    "multi_mse = mean_squared_error(y_pred, y_test)\n",
    "multi_rmse = np.sqrt(multi_mse)\n",
    "print(\"Multiple Regression RMSE: {}\".format(multi_rmse))"
   ]
  },
  {
   "cell_type": "code",
   "execution_count": 35,
   "id": "f2f62734",
   "metadata": {},
   "outputs": [
    {
     "name": "stderr",
     "output_type": "stream",
     "text": [
      "C:\\ProgramData\\Anaconda3\\lib\\site-packages\\sklearn\\base.py:450: UserWarning: X does not have valid feature names, but LinearRegression was fitted with feature names\n",
      "  warnings.warn(\n"
     ]
    },
    {
     "data": {
      "text/plain": [
       "array([719.6930538])"
      ]
     },
     "execution_count": 35,
     "metadata": {},
     "output_type": "execute_result"
    }
   ],
   "source": [
    "import numpy as numpy\n",
    "y = numpy.array([2,2,30,92.01,2.4])\n",
    "mp = y.reshape(-1,len(arg))\n",
    "ypredict = regressor.predict(mp)\n",
    "ypredict"
   ]
  },
  {
   "cell_type": "code",
   "execution_count": 36,
   "id": "ea520c99",
   "metadata": {},
   "outputs": [
    {
     "data": {
      "text/plain": [
       "DecisionTreeClassifier(max_depth=25)"
      ]
     },
     "execution_count": 36,
     "metadata": {},
     "output_type": "execute_result"
    }
   ],
   "source": [
    "from sklearn.tree import DecisionTreeClassifier\n",
    "dtmodel = DecisionTreeClassifier(criterion=\"gini\", max_depth = 25)\n",
    "dtmodel.fit(X_train,y_train)"
   ]
  },
  {
   "cell_type": "code",
   "execution_count": 37,
   "id": "91b1812c",
   "metadata": {},
   "outputs": [],
   "source": [
    "ypred = dtmodel.predict(X_test)"
   ]
  },
  {
   "cell_type": "code",
   "execution_count": 38,
   "id": "a79cda84",
   "metadata": {},
   "outputs": [
    {
     "data": {
      "text/plain": [
       "0.9411764705882353"
      ]
     },
     "execution_count": 38,
     "metadata": {},
     "output_type": "execute_result"
    }
   ],
   "source": [
    "dtmodel.score(X_train,y_train)"
   ]
  },
  {
   "cell_type": "code",
   "execution_count": 39,
   "id": "4fbc1c4d",
   "metadata": {},
   "outputs": [
    {
     "data": {
      "text/plain": [
       "0.6931818181818182"
      ]
     },
     "execution_count": 39,
     "metadata": {},
     "output_type": "execute_result"
    }
   ],
   "source": [
    "dtmodel.score(X_test,y_test)"
   ]
  },
  {
   "cell_type": "code",
   "execution_count": 40,
   "id": "8af5b161",
   "metadata": {},
   "outputs": [
    {
     "name": "stdout",
     "output_type": "stream",
     "text": [
      "Decision Tree RMSE: 1345.2712667577837\n"
     ]
    }
   ],
   "source": [
    "from sklearn.metrics import mean_squared_error\n",
    "\n",
    "decision_mse = mean_squared_error(y_pred, y_test)\n",
    "print(\"Decision Tree RMSE: {}\".format(decision_mse))"
   ]
  },
  {
   "cell_type": "code",
   "execution_count": 41,
   "id": "30ba2210",
   "metadata": {},
   "outputs": [
    {
     "name": "stdout",
     "output_type": "stream",
     "text": [
      "Decision Tree R-squared: 0.9998374323549128\n"
     ]
    }
   ],
   "source": [
    "from sklearn.metrics import r2_score\n",
    "decision_r2 = r2_score(y_test, y_pred)\n",
    "\n",
    "print(\"Decision Tree R-squared: {}\".format(decision_r2))"
   ]
  },
  {
   "cell_type": "code",
   "execution_count": 42,
   "id": "967a7141",
   "metadata": {},
   "outputs": [
    {
     "name": "stderr",
     "output_type": "stream",
     "text": [
      "C:\\ProgramData\\Anaconda3\\lib\\site-packages\\sklearn\\base.py:450: UserWarning: X does not have valid feature names, but DecisionTreeClassifier was fitted with feature names\n",
      "  warnings.warn(\n"
     ]
    },
    {
     "data": {
      "text/plain": [
       "array([390], dtype=int64)"
      ]
     },
     "execution_count": 42,
     "metadata": {},
     "output_type": "execute_result"
    }
   ],
   "source": [
    "\n",
    "y = numpy.array([2,2,30,92.01,2.4])\n",
    "mp = y.reshape(-1,len(arg))\n",
    "ypredict = dtmodel.predict(mp)\n",
    "ypredict"
   ]
  },
  {
   "cell_type": "code",
   "execution_count": 43,
   "id": "ba34dc2a",
   "metadata": {},
   "outputs": [
    {
     "data": {
      "text/html": [
       "<div>\n",
       "<style scoped>\n",
       "    .dataframe tbody tr th:only-of-type {\n",
       "        vertical-align: middle;\n",
       "    }\n",
       "\n",
       "    .dataframe tbody tr th {\n",
       "        vertical-align: top;\n",
       "    }\n",
       "\n",
       "    .dataframe thead th {\n",
       "        text-align: right;\n",
       "    }\n",
       "</style>\n",
       "<table border=\"1\" class=\"dataframe\">\n",
       "  <thead>\n",
       "    <tr style=\"text-align: right;\">\n",
       "      <th></th>\n",
       "      <th>Model</th>\n",
       "      <th>R-squared</th>\n",
       "    </tr>\n",
       "  </thead>\n",
       "  <tbody>\n",
       "    <tr>\n",
       "      <th>0</th>\n",
       "      <td>Multiple Regression</td>\n",
       "      <td>0.999837</td>\n",
       "    </tr>\n",
       "    <tr>\n",
       "      <th>1</th>\n",
       "      <td>KNN</td>\n",
       "      <td>0.992808</td>\n",
       "    </tr>\n",
       "    <tr>\n",
       "      <th>2</th>\n",
       "      <td>Decision Tree</td>\n",
       "      <td>0.999837</td>\n",
       "    </tr>\n",
       "  </tbody>\n",
       "</table>\n",
       "</div>"
      ],
      "text/plain": [
       "                 Model  R-squared\n",
       "0  Multiple Regression   0.999837\n",
       "1                  KNN   0.992808\n",
       "2        Decision Tree   0.999837"
      ]
     },
     "execution_count": 43,
     "metadata": {},
     "output_type": "execute_result"
    }
   ],
   "source": [
    "data = {\"Model\": [\"Multiple Regression\",\"KNN\",\"Decision Tree\"], \n",
    "        \"R-squared\": [multir_r2,knnrg_r2,decision_r2]}          \n",
    "\n",
    "results = pd.DataFrame(data=data)\n",
    "results"
   ]
  },
  {
   "cell_type": "code",
   "execution_count": 44,
   "id": "d5f730ce",
   "metadata": {},
   "outputs": [
    {
     "name": "stdout",
     "output_type": "stream",
     "text": [
      "Index(['Distance(km)', 'Fuel Price', 'Fuel Consumption'], dtype='object')\n"
     ]
    }
   ],
   "source": [
    "numeric_cols = X.select_dtypes(include=['int64','float64']).columns\n",
    "print(numeric_cols)"
   ]
  },
  {
   "cell_type": "code",
   "execution_count": 45,
   "id": "84150872",
   "metadata": {},
   "outputs": [
    {
     "name": "stdout",
     "output_type": "stream",
     "text": [
      "Index([], dtype='object')\n"
     ]
    }
   ],
   "source": [
    "categorical_cols = X.select_dtypes(include=['object']).columns\n",
    "print(categorical_cols)"
   ]
  },
  {
   "cell_type": "code",
   "execution_count": 58,
   "id": "9af4dd1c",
   "metadata": {},
   "outputs": [],
   "source": [
    "n_transformer = Pipeline(steps=\n",
    "                       [\n",
    "                           ('imputeN',SimpleImputer(strategy='mean'))\n",
    "                           \n",
    "                       ])"
   ]
  },
  {
   "cell_type": "code",
   "execution_count": 59,
   "id": "f760edd1",
   "metadata": {},
   "outputs": [],
   "source": [
    "c_transformer = Pipeline(steps=\n",
    "                       [\n",
    "                           ('imputeC',SimpleImputer(strategy='constant', fill_value='missing')),\n",
    "                           ('labelencode',LabelEncoder())\n",
    "                       ])"
   ]
  },
  {
   "cell_type": "code",
   "execution_count": 60,
   "id": "55d62de9",
   "metadata": {},
   "outputs": [],
   "source": [
    "preprocessing = ColumnTransformer(transformers=\n",
    "                       [\n",
    "                           ('numeric',n_transformer,numeric_cols),\n",
    "                           ('categoric',c_transformer,categorical_cols)\n",
    "                       ])"
   ]
  },
  {
   "cell_type": "code",
   "execution_count": 102,
   "id": "d95b6800",
   "metadata": {},
   "outputs": [],
   "source": [
    "from sklearn.neighbors import KNeighborsClassifier\n",
    "estimator = KNeighborsClassifier(n_neighbors=10,weights='distance',algorithm='kd_tree')"
   ]
  },
  {
   "cell_type": "code",
   "execution_count": 103,
   "id": "ec84cc2f",
   "metadata": {},
   "outputs": [],
   "source": [
    "taximodel = Pipeline(steps=\n",
    "                  [\n",
    "                      ('pre',preprocessing),\n",
    "                      ('est',estimator)\n",
    "                  ])"
   ]
  },
  {
   "cell_type": "code",
   "execution_count": 104,
   "id": "dde4f71c",
   "metadata": {},
   "outputs": [
    {
     "data": {
      "text/html": [
       "<style>#sk-028b56bb-1d4d-459e-83d5-581514b22726 {color: black;background-color: white;}#sk-028b56bb-1d4d-459e-83d5-581514b22726 pre{padding: 0;}#sk-028b56bb-1d4d-459e-83d5-581514b22726 div.sk-toggleable {background-color: white;}#sk-028b56bb-1d4d-459e-83d5-581514b22726 label.sk-toggleable__label {cursor: pointer;display: block;width: 100%;margin-bottom: 0;padding: 0.3em;box-sizing: border-box;text-align: center;}#sk-028b56bb-1d4d-459e-83d5-581514b22726 label.sk-toggleable__label-arrow:before {content: \"▸\";float: left;margin-right: 0.25em;color: #696969;}#sk-028b56bb-1d4d-459e-83d5-581514b22726 label.sk-toggleable__label-arrow:hover:before {color: black;}#sk-028b56bb-1d4d-459e-83d5-581514b22726 div.sk-estimator:hover label.sk-toggleable__label-arrow:before {color: black;}#sk-028b56bb-1d4d-459e-83d5-581514b22726 div.sk-toggleable__content {max-height: 0;max-width: 0;overflow: hidden;text-align: left;background-color: #f0f8ff;}#sk-028b56bb-1d4d-459e-83d5-581514b22726 div.sk-toggleable__content pre {margin: 0.2em;color: black;border-radius: 0.25em;background-color: #f0f8ff;}#sk-028b56bb-1d4d-459e-83d5-581514b22726 input.sk-toggleable__control:checked~div.sk-toggleable__content {max-height: 200px;max-width: 100%;overflow: auto;}#sk-028b56bb-1d4d-459e-83d5-581514b22726 input.sk-toggleable__control:checked~label.sk-toggleable__label-arrow:before {content: \"▾\";}#sk-028b56bb-1d4d-459e-83d5-581514b22726 div.sk-estimator input.sk-toggleable__control:checked~label.sk-toggleable__label {background-color: #d4ebff;}#sk-028b56bb-1d4d-459e-83d5-581514b22726 div.sk-label input.sk-toggleable__control:checked~label.sk-toggleable__label {background-color: #d4ebff;}#sk-028b56bb-1d4d-459e-83d5-581514b22726 input.sk-hidden--visually {border: 0;clip: rect(1px 1px 1px 1px);clip: rect(1px, 1px, 1px, 1px);height: 1px;margin: -1px;overflow: hidden;padding: 0;position: absolute;width: 1px;}#sk-028b56bb-1d4d-459e-83d5-581514b22726 div.sk-estimator {font-family: monospace;background-color: #f0f8ff;border: 1px dotted black;border-radius: 0.25em;box-sizing: border-box;margin-bottom: 0.5em;}#sk-028b56bb-1d4d-459e-83d5-581514b22726 div.sk-estimator:hover {background-color: #d4ebff;}#sk-028b56bb-1d4d-459e-83d5-581514b22726 div.sk-parallel-item::after {content: \"\";width: 100%;border-bottom: 1px solid gray;flex-grow: 1;}#sk-028b56bb-1d4d-459e-83d5-581514b22726 div.sk-label:hover label.sk-toggleable__label {background-color: #d4ebff;}#sk-028b56bb-1d4d-459e-83d5-581514b22726 div.sk-serial::before {content: \"\";position: absolute;border-left: 1px solid gray;box-sizing: border-box;top: 2em;bottom: 0;left: 50%;}#sk-028b56bb-1d4d-459e-83d5-581514b22726 div.sk-serial {display: flex;flex-direction: column;align-items: center;background-color: white;padding-right: 0.2em;padding-left: 0.2em;}#sk-028b56bb-1d4d-459e-83d5-581514b22726 div.sk-item {z-index: 1;}#sk-028b56bb-1d4d-459e-83d5-581514b22726 div.sk-parallel {display: flex;align-items: stretch;justify-content: center;background-color: white;}#sk-028b56bb-1d4d-459e-83d5-581514b22726 div.sk-parallel::before {content: \"\";position: absolute;border-left: 1px solid gray;box-sizing: border-box;top: 2em;bottom: 0;left: 50%;}#sk-028b56bb-1d4d-459e-83d5-581514b22726 div.sk-parallel-item {display: flex;flex-direction: column;position: relative;background-color: white;}#sk-028b56bb-1d4d-459e-83d5-581514b22726 div.sk-parallel-item:first-child::after {align-self: flex-end;width: 50%;}#sk-028b56bb-1d4d-459e-83d5-581514b22726 div.sk-parallel-item:last-child::after {align-self: flex-start;width: 50%;}#sk-028b56bb-1d4d-459e-83d5-581514b22726 div.sk-parallel-item:only-child::after {width: 0;}#sk-028b56bb-1d4d-459e-83d5-581514b22726 div.sk-dashed-wrapped {border: 1px dashed gray;margin: 0 0.4em 0.5em 0.4em;box-sizing: border-box;padding-bottom: 0.4em;background-color: white;position: relative;}#sk-028b56bb-1d4d-459e-83d5-581514b22726 div.sk-label label {font-family: monospace;font-weight: bold;background-color: white;display: inline-block;line-height: 1.2em;}#sk-028b56bb-1d4d-459e-83d5-581514b22726 div.sk-label-container {position: relative;z-index: 2;text-align: center;}#sk-028b56bb-1d4d-459e-83d5-581514b22726 div.sk-container {/* jupyter's `normalize.less` sets `[hidden] { display: none; }` but bootstrap.min.css set `[hidden] { display: none !important; }` so we also need the `!important` here to be able to override the default hidden behavior on the sphinx rendered scikit-learn.org. See: https://github.com/scikit-learn/scikit-learn/issues/21755 */display: inline-block !important;position: relative;}#sk-028b56bb-1d4d-459e-83d5-581514b22726 div.sk-text-repr-fallback {display: none;}</style><div id=\"sk-028b56bb-1d4d-459e-83d5-581514b22726\" class=\"sk-top-container\"><div class=\"sk-text-repr-fallback\"><pre>Pipeline(steps=[(&#x27;pre&#x27;,\n",
       "                 ColumnTransformer(transformers=[(&#x27;numeric&#x27;,\n",
       "                                                  Pipeline(steps=[(&#x27;imputeN&#x27;,\n",
       "                                                                   SimpleImputer())]),\n",
       "                                                  Index([&#x27;Distance(km)&#x27;, &#x27;Fuel Price&#x27;, &#x27;Fuel Consumption&#x27;], dtype=&#x27;object&#x27;)),\n",
       "                                                 (&#x27;categoric&#x27;,\n",
       "                                                  Pipeline(steps=[(&#x27;imputeC&#x27;,\n",
       "                                                                   SimpleImputer(fill_value=&#x27;missing&#x27;,\n",
       "                                                                                 strategy=&#x27;constant&#x27;)),\n",
       "                                                                  (&#x27;labelencode&#x27;,\n",
       "                                                                   LabelEncoder())]),\n",
       "                                                  Index([], dtype=&#x27;object&#x27;))])),\n",
       "                (&#x27;est&#x27;,\n",
       "                 KNeighborsClassifier(algorithm=&#x27;kd_tree&#x27;, n_neighbors=10,\n",
       "                                      weights=&#x27;distance&#x27;))])</pre><b>Please rerun this cell to show the HTML repr or trust the notebook.</b></div><div class=\"sk-container\" hidden><div class=\"sk-item sk-dashed-wrapped\"><div class=\"sk-label-container\"><div class=\"sk-label sk-toggleable\"><input class=\"sk-toggleable__control sk-hidden--visually\" id=\"5324e4af-9709-425b-a6bf-46155aa5fcc5\" type=\"checkbox\" ><label for=\"5324e4af-9709-425b-a6bf-46155aa5fcc5\" class=\"sk-toggleable__label sk-toggleable__label-arrow\">Pipeline</label><div class=\"sk-toggleable__content\"><pre>Pipeline(steps=[(&#x27;pre&#x27;,\n",
       "                 ColumnTransformer(transformers=[(&#x27;numeric&#x27;,\n",
       "                                                  Pipeline(steps=[(&#x27;imputeN&#x27;,\n",
       "                                                                   SimpleImputer())]),\n",
       "                                                  Index([&#x27;Distance(km)&#x27;, &#x27;Fuel Price&#x27;, &#x27;Fuel Consumption&#x27;], dtype=&#x27;object&#x27;)),\n",
       "                                                 (&#x27;categoric&#x27;,\n",
       "                                                  Pipeline(steps=[(&#x27;imputeC&#x27;,\n",
       "                                                                   SimpleImputer(fill_value=&#x27;missing&#x27;,\n",
       "                                                                                 strategy=&#x27;constant&#x27;)),\n",
       "                                                                  (&#x27;labelencode&#x27;,\n",
       "                                                                   LabelEncoder())]),\n",
       "                                                  Index([], dtype=&#x27;object&#x27;))])),\n",
       "                (&#x27;est&#x27;,\n",
       "                 KNeighborsClassifier(algorithm=&#x27;kd_tree&#x27;, n_neighbors=10,\n",
       "                                      weights=&#x27;distance&#x27;))])</pre></div></div></div><div class=\"sk-serial\"><div class=\"sk-item sk-dashed-wrapped\"><div class=\"sk-label-container\"><div class=\"sk-label sk-toggleable\"><input class=\"sk-toggleable__control sk-hidden--visually\" id=\"70e237cf-d9fc-4cf1-82cb-5e592421f636\" type=\"checkbox\" ><label for=\"70e237cf-d9fc-4cf1-82cb-5e592421f636\" class=\"sk-toggleable__label sk-toggleable__label-arrow\">pre: ColumnTransformer</label><div class=\"sk-toggleable__content\"><pre>ColumnTransformer(transformers=[(&#x27;numeric&#x27;,\n",
       "                                 Pipeline(steps=[(&#x27;imputeN&#x27;, SimpleImputer())]),\n",
       "                                 Index([&#x27;Distance(km)&#x27;, &#x27;Fuel Price&#x27;, &#x27;Fuel Consumption&#x27;], dtype=&#x27;object&#x27;)),\n",
       "                                (&#x27;categoric&#x27;,\n",
       "                                 Pipeline(steps=[(&#x27;imputeC&#x27;,\n",
       "                                                  SimpleImputer(fill_value=&#x27;missing&#x27;,\n",
       "                                                                strategy=&#x27;constant&#x27;)),\n",
       "                                                 (&#x27;labelencode&#x27;,\n",
       "                                                  LabelEncoder())]),\n",
       "                                 Index([], dtype=&#x27;object&#x27;))])</pre></div></div></div><div class=\"sk-parallel\"><div class=\"sk-parallel-item\"><div class=\"sk-item\"><div class=\"sk-label-container\"><div class=\"sk-label sk-toggleable\"><input class=\"sk-toggleable__control sk-hidden--visually\" id=\"337ddb2d-187c-42a2-a7df-d2c1184711ec\" type=\"checkbox\" ><label for=\"337ddb2d-187c-42a2-a7df-d2c1184711ec\" class=\"sk-toggleable__label sk-toggleable__label-arrow\">numeric</label><div class=\"sk-toggleable__content\"><pre>Index([&#x27;Distance(km)&#x27;, &#x27;Fuel Price&#x27;, &#x27;Fuel Consumption&#x27;], dtype=&#x27;object&#x27;)</pre></div></div></div><div class=\"sk-serial\"><div class=\"sk-item\"><div class=\"sk-serial\"><div class=\"sk-item\"><div class=\"sk-estimator sk-toggleable\"><input class=\"sk-toggleable__control sk-hidden--visually\" id=\"582a0d3c-39d1-4ce2-afdf-d946efbfc5d2\" type=\"checkbox\" ><label for=\"582a0d3c-39d1-4ce2-afdf-d946efbfc5d2\" class=\"sk-toggleable__label sk-toggleable__label-arrow\">SimpleImputer</label><div class=\"sk-toggleable__content\"><pre>SimpleImputer()</pre></div></div></div></div></div></div></div></div><div class=\"sk-parallel-item\"><div class=\"sk-item\"><div class=\"sk-label-container\"><div class=\"sk-label sk-toggleable\"><input class=\"sk-toggleable__control sk-hidden--visually\" id=\"9fe69785-b0af-41e9-8acf-55ec48a49a5f\" type=\"checkbox\" ><label for=\"9fe69785-b0af-41e9-8acf-55ec48a49a5f\" class=\"sk-toggleable__label sk-toggleable__label-arrow\">categoric</label><div class=\"sk-toggleable__content\"><pre>Index([], dtype=&#x27;object&#x27;)</pre></div></div></div><div class=\"sk-serial\"><div class=\"sk-item\"><div class=\"sk-serial\"><div class=\"sk-item\"><div class=\"sk-estimator sk-toggleable\"><input class=\"sk-toggleable__control sk-hidden--visually\" id=\"b836e510-41b7-4e93-9527-759b8f9918aa\" type=\"checkbox\" ><label for=\"b836e510-41b7-4e93-9527-759b8f9918aa\" class=\"sk-toggleable__label sk-toggleable__label-arrow\">SimpleImputer</label><div class=\"sk-toggleable__content\"><pre>SimpleImputer(fill_value=&#x27;missing&#x27;, strategy=&#x27;constant&#x27;)</pre></div></div></div><div class=\"sk-item\"><div class=\"sk-estimator sk-toggleable\"><input class=\"sk-toggleable__control sk-hidden--visually\" id=\"e53cb237-f202-4eee-80ee-0f940adefadb\" type=\"checkbox\" ><label for=\"e53cb237-f202-4eee-80ee-0f940adefadb\" class=\"sk-toggleable__label sk-toggleable__label-arrow\">LabelEncoder</label><div class=\"sk-toggleable__content\"><pre>LabelEncoder()</pre></div></div></div></div></div></div></div></div></div></div><div class=\"sk-item\"><div class=\"sk-estimator sk-toggleable\"><input class=\"sk-toggleable__control sk-hidden--visually\" id=\"2cdd31ed-9964-4771-a17b-6d844993f899\" type=\"checkbox\" ><label for=\"2cdd31ed-9964-4771-a17b-6d844993f899\" class=\"sk-toggleable__label sk-toggleable__label-arrow\">KNeighborsClassifier</label><div class=\"sk-toggleable__content\"><pre>KNeighborsClassifier(algorithm=&#x27;kd_tree&#x27;, n_neighbors=10, weights=&#x27;distance&#x27;)</pre></div></div></div></div></div></div></div>"
      ],
      "text/plain": [
       "Pipeline(steps=[('pre',\n",
       "                 ColumnTransformer(transformers=[('numeric',\n",
       "                                                  Pipeline(steps=[('imputeN',\n",
       "                                                                   SimpleImputer())]),\n",
       "                                                  Index(['Distance(km)', 'Fuel Price', 'Fuel Consumption'], dtype='object')),\n",
       "                                                 ('categoric',\n",
       "                                                  Pipeline(steps=[('imputeC',\n",
       "                                                                   SimpleImputer(fill_value='missing',\n",
       "                                                                                 strategy='constant')),\n",
       "                                                                  ('labelencode',\n",
       "                                                                   LabelEncoder())]),\n",
       "                                                  Index([], dtype='object'))])),\n",
       "                ('est',\n",
       "                 KNeighborsClassifier(algorithm='kd_tree', n_neighbors=10,\n",
       "                                      weights='distance'))])"
      ]
     },
     "execution_count": 104,
     "metadata": {},
     "output_type": "execute_result"
    }
   ],
   "source": [
    "set_config(display='diagram')\n",
    "taximodel.fit(X_train,y_train)"
   ]
  },
  {
   "cell_type": "code",
   "execution_count": 105,
   "id": "de8236f5",
   "metadata": {},
   "outputs": [],
   "source": [
    "y_hat = taximodel.predict(X_test)"
   ]
  },
  {
   "cell_type": "code",
   "execution_count": 106,
   "id": "d75935e2",
   "metadata": {},
   "outputs": [
    {
     "name": "stdout",
     "output_type": "stream",
     "text": [
      "Report : \n",
      "              precision    recall  f1-score   support\n",
      "\n",
      "          13       0.00      0.00      0.00         1\n",
      "          26       0.86      1.00      0.92         6\n",
      "          39       1.00      1.00      1.00         1\n",
      "          52       1.00      1.00      1.00         9\n",
      "          78       1.00      1.00      1.00        12\n",
      "         104       1.00      1.00      1.00         8\n",
      "         130       1.00      0.80      0.89        10\n",
      "         156       0.75      1.00      0.86         6\n",
      "         182       1.00      1.00      1.00        11\n",
      "         208       1.00      1.00      1.00         6\n",
      "         234       1.00      1.00      1.00         3\n",
      "         260       1.00      1.00      1.00         6\n",
      "         286       1.00      1.00      1.00         3\n",
      "         312       1.00      1.00      1.00         3\n",
      "         338       1.00      1.00      1.00         3\n",
      "         364       1.00      1.00      1.00         2\n",
      "         390       1.00      1.00      1.00         2\n",
      "         416       1.00      1.00      1.00         6\n",
      "         442       1.00      1.00      1.00         3\n",
      "         468       1.00      1.00      1.00         4\n",
      "         494       1.00      1.00      1.00         3\n",
      "         520       0.75      1.00      0.86         3\n",
      "         529       0.00      0.00      0.00         1\n",
      "         572       1.00      1.00      1.00         2\n",
      "         598       1.00      1.00      1.00         1\n",
      "         624       1.00      1.00      1.00         1\n",
      "         650       1.00      1.00      1.00         2\n",
      "         702       0.50      1.00      0.67         1\n",
      "         728       0.00      0.00      0.00         1\n",
      "         806       1.00      1.00      1.00         2\n",
      "         832       1.00      1.00      1.00         1\n",
      "        1014       1.00      1.00      1.00         1\n",
      "        1032       0.00      0.00      0.00         0\n",
      "        1040       1.00      1.00      1.00         2\n",
      "        1118       0.00      0.00      0.00         1\n",
      "        1200       0.00      0.00      0.00         0\n",
      "        1224       0.00      0.00      0.00         1\n",
      "        1248       0.00      0.00      0.00         1\n",
      "        1326       0.00      0.00      0.00         0\n",
      "        1378       0.00      0.00      0.00         1\n",
      "        1430       0.50      1.00      0.67         1\n",
      "        1440       0.00      0.00      0.00         1\n",
      "        1508       0.00      0.00      0.00         0\n",
      "        1512       0.00      0.00      0.00         0\n",
      "        1632       0.00      0.00      0.00         1\n",
      "        1638       0.00      0.00      0.00         1\n",
      "        1768       0.00      0.00      0.00         0\n",
      "        1848       0.00      0.00      0.00         1\n",
      "        1872       0.00      0.00      0.00         0\n",
      "        1950       1.00      1.00      1.00         1\n",
      "        2040       0.00      0.00      0.00         0\n",
      "        2210       0.00      0.00      0.00         1\n",
      "        2448       0.00      0.00      0.00         0\n",
      "        2544       0.00      0.00      0.00         1\n",
      "        2592       0.00      0.00      0.00         0\n",
      "        2600       0.00      0.00      0.00         1\n",
      "        2736       0.00      0.00      0.00         0\n",
      "        2904       0.00      0.00      0.00         1\n",
      "        2928       0.00      0.00      0.00         1\n",
      "        2938       0.00      0.00      0.00         2\n",
      "        2976       0.00      0.00      0.00         0\n",
      "        3312       0.00      0.00      0.00         1\n",
      "        3336       0.50      1.00      0.67         1\n",
      "        3384       0.00      0.00      0.00         1\n",
      "        3408       0.00      0.00      0.00         0\n",
      "        3456       0.00      0.00      0.00         1\n",
      "        3504       0.00      0.00      0.00         0\n",
      "        3552       0.00      0.00      0.00         0\n",
      "        3576       0.00      0.00      0.00         1\n",
      "        3600       0.00      0.00      0.00         1\n",
      "        3816       0.00      0.00      0.00         2\n",
      "        4152       0.00      0.00      0.00         1\n",
      "        4200       0.00      0.00      0.00         0\n",
      "        4392       0.00      0.00      0.00         1\n",
      "        4440       0.00      0.00      0.00         0\n",
      "        4680       0.00      0.00      0.00         0\n",
      "        4704       0.00      0.00      0.00         1\n",
      "        4728       1.00      1.00      1.00         1\n",
      "        4800       0.00      0.00      0.00         0\n",
      "        4824       0.00      0.00      0.00         1\n",
      "        5016       0.00      0.00      0.00         0\n",
      "        5040       0.00      0.00      0.00         1\n",
      "        5472       1.00      1.00      1.00         1\n",
      "        5568       0.00      0.00      0.00         0\n",
      "        5616       0.00      0.00      0.00         1\n",
      "        5640       0.00      0.00      0.00         1\n",
      "        5664       0.00      0.00      0.00         0\n",
      "        6072       0.00      0.00      0.00         0\n",
      "        6120       0.00      0.00      0.00         2\n",
      "        6312       1.00      1.00      1.00         1\n",
      "        6720       0.00      0.00      0.00         1\n",
      "        6864       0.00      0.00      0.00         0\n",
      "        7200       1.00      1.00      1.00         1\n",
      "        8448       0.50      1.00      0.67         1\n",
      "        8544       0.00      0.00      0.00         1\n",
      "        9336       0.00      0.00      0.00         1\n",
      "        9408       0.00      0.00      0.00         0\n",
      "        9528       0.00      0.00      0.00         1\n",
      "       10272       0.00      0.00      0.00         1\n",
      "       10320       0.00      0.00      0.00         0\n",
      "       10440       0.00      0.00      0.00         1\n",
      "       10728       0.00      0.00      0.00         0\n",
      "       10800       0.00      0.00      0.00         1\n",
      "       11952       0.00      0.00      0.00         1\n",
      "       12024       0.00      0.00      0.00         0\n",
      "       12744       0.00      0.00      0.00         1\n",
      "       12768       0.00      0.00      0.00         0\n",
      "       12888       0.00      0.00      0.00         0\n",
      "       13080       0.00      0.00      0.00         1\n",
      "       13608       0.00      0.00      0.00         0\n",
      "       13656       0.00      0.00      0.00         1\n",
      "\n",
      "    accuracy                           0.73       176\n",
      "   macro avg       0.32      0.34      0.33       176\n",
      "weighted avg       0.72      0.73      0.72       176\n",
      "\n"
     ]
    },
    {
     "name": "stderr",
     "output_type": "stream",
     "text": [
      "C:\\ProgramData\\Anaconda3\\lib\\site-packages\\sklearn\\metrics\\_classification.py:1318: UndefinedMetricWarning: Precision and F-score are ill-defined and being set to 0.0 in labels with no predicted samples. Use `zero_division` parameter to control this behavior.\n",
      "  _warn_prf(average, modifier, msg_start, len(result))\n",
      "C:\\ProgramData\\Anaconda3\\lib\\site-packages\\sklearn\\metrics\\_classification.py:1318: UndefinedMetricWarning: Recall and F-score are ill-defined and being set to 0.0 in labels with no true samples. Use `zero_division` parameter to control this behavior.\n",
      "  _warn_prf(average, modifier, msg_start, len(result))\n",
      "C:\\ProgramData\\Anaconda3\\lib\\site-packages\\sklearn\\metrics\\_classification.py:1318: UndefinedMetricWarning: Precision and F-score are ill-defined and being set to 0.0 in labels with no predicted samples. Use `zero_division` parameter to control this behavior.\n",
      "  _warn_prf(average, modifier, msg_start, len(result))\n",
      "C:\\ProgramData\\Anaconda3\\lib\\site-packages\\sklearn\\metrics\\_classification.py:1318: UndefinedMetricWarning: Recall and F-score are ill-defined and being set to 0.0 in labels with no true samples. Use `zero_division` parameter to control this behavior.\n",
      "  _warn_prf(average, modifier, msg_start, len(result))\n",
      "C:\\ProgramData\\Anaconda3\\lib\\site-packages\\sklearn\\metrics\\_classification.py:1318: UndefinedMetricWarning: Precision and F-score are ill-defined and being set to 0.0 in labels with no predicted samples. Use `zero_division` parameter to control this behavior.\n",
      "  _warn_prf(average, modifier, msg_start, len(result))\n",
      "C:\\ProgramData\\Anaconda3\\lib\\site-packages\\sklearn\\metrics\\_classification.py:1318: UndefinedMetricWarning: Recall and F-score are ill-defined and being set to 0.0 in labels with no true samples. Use `zero_division` parameter to control this behavior.\n",
      "  _warn_prf(average, modifier, msg_start, len(result))\n"
     ]
    }
   ],
   "source": [
    "report = classification_report(y_test, y_hat)\n",
    "print(\"Report : \\n{}\".format(report))"
   ]
  },
  {
   "cell_type": "code",
   "execution_count": 107,
   "id": "5dd4e9b2",
   "metadata": {},
   "outputs": [],
   "source": [
    "pickle.dump(taximodel,open(\"taximodel.pkl\",\"wb\"))"
   ]
  },
  {
   "cell_type": "code",
   "execution_count": 108,
   "id": "ae839ded",
   "metadata": {},
   "outputs": [],
   "source": [
    "model = pickle.load(open(\"taximodel.pkl\",\"rb\"))"
   ]
  },
  {
   "cell_type": "code",
   "execution_count": 109,
   "id": "461ecf6f",
   "metadata": {},
   "outputs": [
    {
     "data": {
      "text/plain": [
       "0.7329545454545454"
      ]
     },
     "execution_count": 109,
     "metadata": {},
     "output_type": "execute_result"
    }
   ],
   "source": [
    "model.score(X_test,y_test)"
   ]
  },
  {
   "cell_type": "code",
   "execution_count": 110,
   "id": "4e9c8a04",
   "metadata": {},
   "outputs": [
    {
     "data": {
      "text/plain": [
       "0.9583333333333334"
      ]
     },
     "execution_count": 110,
     "metadata": {},
     "output_type": "execute_result"
    }
   ],
   "source": [
    "model.score(X_train,y_train)"
   ]
  },
  {
   "cell_type": "code",
   "execution_count": 146,
   "id": "019f6860",
   "metadata": {},
   "outputs": [],
   "source": [
    "from sklearn.model_selection import GridSearchCV\n",
    "\n",
    "n_neighbors = [1,2,3,4,5,6,7,8,9,10,11,12,13,14,15,16,17,18,19,20,21,22,23,24,25,26,27,28,29,30]\n",
    "algorithm = ['kd_tree']\n",
    "weights = ['distance', 'uniform']\n",
    "metric = ['minkowski','euclidean','manhattan']\n",
    "\n",
    "\n",
    "# Pack these params into a dictionary\n",
    "\n",
    "grid_params = [\n",
    "  {\n",
    "        \"est__weights\":weights,\n",
    "          \"est__algorithm\": algorithm,\n",
    "        \"est__n_neighbors\":n_neighbors,\n",
    "          \"est__metric\": metric\n",
    "  }\n",
    "]\n",
    "\n",
    "taxi_dtree_pipeline = GridSearchCV(estimator=taximodel,\n",
    "                               param_grid = grid_params,\n",
    "                               scoring = 'accuracy',\n",
    "                               cv = 10\n",
    "                               )"
   ]
  },
  {
   "cell_type": "code",
   "execution_count": 147,
   "id": "1a35524c",
   "metadata": {},
   "outputs": [
    {
     "name": "stderr",
     "output_type": "stream",
     "text": [
      "C:\\ProgramData\\Anaconda3\\lib\\site-packages\\sklearn\\model_selection\\_split.py:676: UserWarning: The least populated class in y has only 1 members, which is less than n_splits=10.\n",
      "  warnings.warn(\n"
     ]
    }
   ],
   "source": [
    "taxi_model = taxi_dtree_pipeline.fit(X_train, y_train)"
   ]
  },
  {
   "cell_type": "code",
   "execution_count": 148,
   "id": "12d4b6fd",
   "metadata": {},
   "outputs": [
    {
     "data": {
      "text/plain": [
       "dict_keys(['algorithm', 'leaf_size', 'metric', 'metric_params', 'n_jobs', 'n_neighbors', 'p', 'weights'])"
      ]
     },
     "execution_count": 148,
     "metadata": {},
     "output_type": "execute_result"
    }
   ],
   "source": [
    "estimator.get_params().keys()"
   ]
  },
  {
   "cell_type": "code",
   "execution_count": 149,
   "id": "df060be7",
   "metadata": {},
   "outputs": [
    {
     "data": {
      "text/html": [
       "<style>#sk-7fc60f81-9c8f-4cc0-b241-b9fd9adf1c77 {color: black;background-color: white;}#sk-7fc60f81-9c8f-4cc0-b241-b9fd9adf1c77 pre{padding: 0;}#sk-7fc60f81-9c8f-4cc0-b241-b9fd9adf1c77 div.sk-toggleable {background-color: white;}#sk-7fc60f81-9c8f-4cc0-b241-b9fd9adf1c77 label.sk-toggleable__label {cursor: pointer;display: block;width: 100%;margin-bottom: 0;padding: 0.3em;box-sizing: border-box;text-align: center;}#sk-7fc60f81-9c8f-4cc0-b241-b9fd9adf1c77 label.sk-toggleable__label-arrow:before {content: \"▸\";float: left;margin-right: 0.25em;color: #696969;}#sk-7fc60f81-9c8f-4cc0-b241-b9fd9adf1c77 label.sk-toggleable__label-arrow:hover:before {color: black;}#sk-7fc60f81-9c8f-4cc0-b241-b9fd9adf1c77 div.sk-estimator:hover label.sk-toggleable__label-arrow:before {color: black;}#sk-7fc60f81-9c8f-4cc0-b241-b9fd9adf1c77 div.sk-toggleable__content {max-height: 0;max-width: 0;overflow: hidden;text-align: left;background-color: #f0f8ff;}#sk-7fc60f81-9c8f-4cc0-b241-b9fd9adf1c77 div.sk-toggleable__content pre {margin: 0.2em;color: black;border-radius: 0.25em;background-color: #f0f8ff;}#sk-7fc60f81-9c8f-4cc0-b241-b9fd9adf1c77 input.sk-toggleable__control:checked~div.sk-toggleable__content {max-height: 200px;max-width: 100%;overflow: auto;}#sk-7fc60f81-9c8f-4cc0-b241-b9fd9adf1c77 input.sk-toggleable__control:checked~label.sk-toggleable__label-arrow:before {content: \"▾\";}#sk-7fc60f81-9c8f-4cc0-b241-b9fd9adf1c77 div.sk-estimator input.sk-toggleable__control:checked~label.sk-toggleable__label {background-color: #d4ebff;}#sk-7fc60f81-9c8f-4cc0-b241-b9fd9adf1c77 div.sk-label input.sk-toggleable__control:checked~label.sk-toggleable__label {background-color: #d4ebff;}#sk-7fc60f81-9c8f-4cc0-b241-b9fd9adf1c77 input.sk-hidden--visually {border: 0;clip: rect(1px 1px 1px 1px);clip: rect(1px, 1px, 1px, 1px);height: 1px;margin: -1px;overflow: hidden;padding: 0;position: absolute;width: 1px;}#sk-7fc60f81-9c8f-4cc0-b241-b9fd9adf1c77 div.sk-estimator {font-family: monospace;background-color: #f0f8ff;border: 1px dotted black;border-radius: 0.25em;box-sizing: border-box;margin-bottom: 0.5em;}#sk-7fc60f81-9c8f-4cc0-b241-b9fd9adf1c77 div.sk-estimator:hover {background-color: #d4ebff;}#sk-7fc60f81-9c8f-4cc0-b241-b9fd9adf1c77 div.sk-parallel-item::after {content: \"\";width: 100%;border-bottom: 1px solid gray;flex-grow: 1;}#sk-7fc60f81-9c8f-4cc0-b241-b9fd9adf1c77 div.sk-label:hover label.sk-toggleable__label {background-color: #d4ebff;}#sk-7fc60f81-9c8f-4cc0-b241-b9fd9adf1c77 div.sk-serial::before {content: \"\";position: absolute;border-left: 1px solid gray;box-sizing: border-box;top: 2em;bottom: 0;left: 50%;}#sk-7fc60f81-9c8f-4cc0-b241-b9fd9adf1c77 div.sk-serial {display: flex;flex-direction: column;align-items: center;background-color: white;padding-right: 0.2em;padding-left: 0.2em;}#sk-7fc60f81-9c8f-4cc0-b241-b9fd9adf1c77 div.sk-item {z-index: 1;}#sk-7fc60f81-9c8f-4cc0-b241-b9fd9adf1c77 div.sk-parallel {display: flex;align-items: stretch;justify-content: center;background-color: white;}#sk-7fc60f81-9c8f-4cc0-b241-b9fd9adf1c77 div.sk-parallel::before {content: \"\";position: absolute;border-left: 1px solid gray;box-sizing: border-box;top: 2em;bottom: 0;left: 50%;}#sk-7fc60f81-9c8f-4cc0-b241-b9fd9adf1c77 div.sk-parallel-item {display: flex;flex-direction: column;position: relative;background-color: white;}#sk-7fc60f81-9c8f-4cc0-b241-b9fd9adf1c77 div.sk-parallel-item:first-child::after {align-self: flex-end;width: 50%;}#sk-7fc60f81-9c8f-4cc0-b241-b9fd9adf1c77 div.sk-parallel-item:last-child::after {align-self: flex-start;width: 50%;}#sk-7fc60f81-9c8f-4cc0-b241-b9fd9adf1c77 div.sk-parallel-item:only-child::after {width: 0;}#sk-7fc60f81-9c8f-4cc0-b241-b9fd9adf1c77 div.sk-dashed-wrapped {border: 1px dashed gray;margin: 0 0.4em 0.5em 0.4em;box-sizing: border-box;padding-bottom: 0.4em;background-color: white;position: relative;}#sk-7fc60f81-9c8f-4cc0-b241-b9fd9adf1c77 div.sk-label label {font-family: monospace;font-weight: bold;background-color: white;display: inline-block;line-height: 1.2em;}#sk-7fc60f81-9c8f-4cc0-b241-b9fd9adf1c77 div.sk-label-container {position: relative;z-index: 2;text-align: center;}#sk-7fc60f81-9c8f-4cc0-b241-b9fd9adf1c77 div.sk-container {/* jupyter's `normalize.less` sets `[hidden] { display: none; }` but bootstrap.min.css set `[hidden] { display: none !important; }` so we also need the `!important` here to be able to override the default hidden behavior on the sphinx rendered scikit-learn.org. See: https://github.com/scikit-learn/scikit-learn/issues/21755 */display: inline-block !important;position: relative;}#sk-7fc60f81-9c8f-4cc0-b241-b9fd9adf1c77 div.sk-text-repr-fallback {display: none;}</style><div id=\"sk-7fc60f81-9c8f-4cc0-b241-b9fd9adf1c77\" class=\"sk-top-container\"><div class=\"sk-text-repr-fallback\"><pre>Pipeline(steps=[(&#x27;pre&#x27;,\n",
       "                 ColumnTransformer(transformers=[(&#x27;numeric&#x27;,\n",
       "                                                  Pipeline(steps=[(&#x27;imputeN&#x27;,\n",
       "                                                                   SimpleImputer())]),\n",
       "                                                  Index([&#x27;Distance(km)&#x27;, &#x27;Fuel Price&#x27;, &#x27;Fuel Consumption&#x27;], dtype=&#x27;object&#x27;)),\n",
       "                                                 (&#x27;categoric&#x27;,\n",
       "                                                  Pipeline(steps=[(&#x27;imputeC&#x27;,\n",
       "                                                                   SimpleImputer(fill_value=&#x27;missing&#x27;,\n",
       "                                                                                 strategy=&#x27;constant&#x27;)),\n",
       "                                                                  (&#x27;labelencode&#x27;,\n",
       "                                                                   LabelEncoder())]),\n",
       "                                                  Index([], dtype=&#x27;object&#x27;))])),\n",
       "                (&#x27;est&#x27;,\n",
       "                 KNeighborsClassifier(algorithm=&#x27;kd_tree&#x27;, n_neighbors=3,\n",
       "                                      weights=&#x27;distance&#x27;))])</pre><b>Please rerun this cell to show the HTML repr or trust the notebook.</b></div><div class=\"sk-container\" hidden><div class=\"sk-item sk-dashed-wrapped\"><div class=\"sk-label-container\"><div class=\"sk-label sk-toggleable\"><input class=\"sk-toggleable__control sk-hidden--visually\" id=\"e0c300fd-bb5e-438f-bc33-b785e1f72428\" type=\"checkbox\" ><label for=\"e0c300fd-bb5e-438f-bc33-b785e1f72428\" class=\"sk-toggleable__label sk-toggleable__label-arrow\">Pipeline</label><div class=\"sk-toggleable__content\"><pre>Pipeline(steps=[(&#x27;pre&#x27;,\n",
       "                 ColumnTransformer(transformers=[(&#x27;numeric&#x27;,\n",
       "                                                  Pipeline(steps=[(&#x27;imputeN&#x27;,\n",
       "                                                                   SimpleImputer())]),\n",
       "                                                  Index([&#x27;Distance(km)&#x27;, &#x27;Fuel Price&#x27;, &#x27;Fuel Consumption&#x27;], dtype=&#x27;object&#x27;)),\n",
       "                                                 (&#x27;categoric&#x27;,\n",
       "                                                  Pipeline(steps=[(&#x27;imputeC&#x27;,\n",
       "                                                                   SimpleImputer(fill_value=&#x27;missing&#x27;,\n",
       "                                                                                 strategy=&#x27;constant&#x27;)),\n",
       "                                                                  (&#x27;labelencode&#x27;,\n",
       "                                                                   LabelEncoder())]),\n",
       "                                                  Index([], dtype=&#x27;object&#x27;))])),\n",
       "                (&#x27;est&#x27;,\n",
       "                 KNeighborsClassifier(algorithm=&#x27;kd_tree&#x27;, n_neighbors=3,\n",
       "                                      weights=&#x27;distance&#x27;))])</pre></div></div></div><div class=\"sk-serial\"><div class=\"sk-item sk-dashed-wrapped\"><div class=\"sk-label-container\"><div class=\"sk-label sk-toggleable\"><input class=\"sk-toggleable__control sk-hidden--visually\" id=\"6302b497-cfb6-46a0-b380-7c0bca074026\" type=\"checkbox\" ><label for=\"6302b497-cfb6-46a0-b380-7c0bca074026\" class=\"sk-toggleable__label sk-toggleable__label-arrow\">pre: ColumnTransformer</label><div class=\"sk-toggleable__content\"><pre>ColumnTransformer(transformers=[(&#x27;numeric&#x27;,\n",
       "                                 Pipeline(steps=[(&#x27;imputeN&#x27;, SimpleImputer())]),\n",
       "                                 Index([&#x27;Distance(km)&#x27;, &#x27;Fuel Price&#x27;, &#x27;Fuel Consumption&#x27;], dtype=&#x27;object&#x27;)),\n",
       "                                (&#x27;categoric&#x27;,\n",
       "                                 Pipeline(steps=[(&#x27;imputeC&#x27;,\n",
       "                                                  SimpleImputer(fill_value=&#x27;missing&#x27;,\n",
       "                                                                strategy=&#x27;constant&#x27;)),\n",
       "                                                 (&#x27;labelencode&#x27;,\n",
       "                                                  LabelEncoder())]),\n",
       "                                 Index([], dtype=&#x27;object&#x27;))])</pre></div></div></div><div class=\"sk-parallel\"><div class=\"sk-parallel-item\"><div class=\"sk-item\"><div class=\"sk-label-container\"><div class=\"sk-label sk-toggleable\"><input class=\"sk-toggleable__control sk-hidden--visually\" id=\"00dff835-9395-4462-a3d0-c5ffd078fb75\" type=\"checkbox\" ><label for=\"00dff835-9395-4462-a3d0-c5ffd078fb75\" class=\"sk-toggleable__label sk-toggleable__label-arrow\">numeric</label><div class=\"sk-toggleable__content\"><pre>Index([&#x27;Distance(km)&#x27;, &#x27;Fuel Price&#x27;, &#x27;Fuel Consumption&#x27;], dtype=&#x27;object&#x27;)</pre></div></div></div><div class=\"sk-serial\"><div class=\"sk-item\"><div class=\"sk-serial\"><div class=\"sk-item\"><div class=\"sk-estimator sk-toggleable\"><input class=\"sk-toggleable__control sk-hidden--visually\" id=\"c526dd01-bfb0-4457-80e0-b8b47b790b4d\" type=\"checkbox\" ><label for=\"c526dd01-bfb0-4457-80e0-b8b47b790b4d\" class=\"sk-toggleable__label sk-toggleable__label-arrow\">SimpleImputer</label><div class=\"sk-toggleable__content\"><pre>SimpleImputer()</pre></div></div></div></div></div></div></div></div><div class=\"sk-parallel-item\"><div class=\"sk-item\"><div class=\"sk-label-container\"><div class=\"sk-label sk-toggleable\"><input class=\"sk-toggleable__control sk-hidden--visually\" id=\"81ed2985-b01e-419b-8218-792809ba8f38\" type=\"checkbox\" ><label for=\"81ed2985-b01e-419b-8218-792809ba8f38\" class=\"sk-toggleable__label sk-toggleable__label-arrow\">categoric</label><div class=\"sk-toggleable__content\"><pre>Index([], dtype=&#x27;object&#x27;)</pre></div></div></div><div class=\"sk-serial\"><div class=\"sk-item\"><div class=\"sk-serial\"><div class=\"sk-item\"><div class=\"sk-estimator sk-toggleable\"><input class=\"sk-toggleable__control sk-hidden--visually\" id=\"32564c44-fb7b-4daa-af43-0f4edc008b2d\" type=\"checkbox\" ><label for=\"32564c44-fb7b-4daa-af43-0f4edc008b2d\" class=\"sk-toggleable__label sk-toggleable__label-arrow\">SimpleImputer</label><div class=\"sk-toggleable__content\"><pre>SimpleImputer(fill_value=&#x27;missing&#x27;, strategy=&#x27;constant&#x27;)</pre></div></div></div><div class=\"sk-item\"><div class=\"sk-estimator sk-toggleable\"><input class=\"sk-toggleable__control sk-hidden--visually\" id=\"64752b75-a0e0-47dc-92ef-b3066ffef132\" type=\"checkbox\" ><label for=\"64752b75-a0e0-47dc-92ef-b3066ffef132\" class=\"sk-toggleable__label sk-toggleable__label-arrow\">LabelEncoder</label><div class=\"sk-toggleable__content\"><pre>LabelEncoder()</pre></div></div></div></div></div></div></div></div></div></div><div class=\"sk-item\"><div class=\"sk-estimator sk-toggleable\"><input class=\"sk-toggleable__control sk-hidden--visually\" id=\"c978cf0a-f706-4a19-8f55-9b27de0136dc\" type=\"checkbox\" ><label for=\"c978cf0a-f706-4a19-8f55-9b27de0136dc\" class=\"sk-toggleable__label sk-toggleable__label-arrow\">KNeighborsClassifier</label><div class=\"sk-toggleable__content\"><pre>KNeighborsClassifier(algorithm=&#x27;kd_tree&#x27;, n_neighbors=3, weights=&#x27;distance&#x27;)</pre></div></div></div></div></div></div></div>"
      ],
      "text/plain": [
       "Pipeline(steps=[('pre',\n",
       "                 ColumnTransformer(transformers=[('numeric',\n",
       "                                                  Pipeline(steps=[('imputeN',\n",
       "                                                                   SimpleImputer())]),\n",
       "                                                  Index(['Distance(km)', 'Fuel Price', 'Fuel Consumption'], dtype='object')),\n",
       "                                                 ('categoric',\n",
       "                                                  Pipeline(steps=[('imputeC',\n",
       "                                                                   SimpleImputer(fill_value='missing',\n",
       "                                                                                 strategy='constant')),\n",
       "                                                                  ('labelencode',\n",
       "                                                                   LabelEncoder())]),\n",
       "                                                  Index([], dtype='object'))])),\n",
       "                ('est',\n",
       "                 KNeighborsClassifier(algorithm='kd_tree', n_neighbors=3,\n",
       "                                      weights='distance'))])"
      ]
     },
     "execution_count": 149,
     "metadata": {},
     "output_type": "execute_result"
    }
   ],
   "source": [
    "taxi_model.best_estimator_"
   ]
  },
  {
   "cell_type": "code",
   "execution_count": 150,
   "id": "3c08e693",
   "metadata": {},
   "outputs": [
    {
     "name": "stdout",
     "output_type": "stream",
     "text": [
      "[  312   104   182   104   520   182   312  7200   130 10320   364  4200\n",
      "  2736   260    78    52  3336    52   416  2592   390   416   234   234\n",
      "   104   104 12024   156    26  3504   338   520  1040  6312   364  2448\n",
      "    26  3504   598    52   286  6864   312   182    78 12888   416  1404\n",
      "   208    52  4728  5472 10728   208   182  5016   468   260   702   156\n",
      "   806  9408   208    78    52   260   260  4680   182   182  1040  6072\n",
      "   520  2040   624  1768   156   156   468  8448   468    78   156    26\n",
      "    78  3504   442    78  1508    52  4440    26   572  2976    78  3336\n",
      "  1512   208   702   104  8448   442   286   520  1200   494   130  3504\n",
      "  1032   806   182    26  1430 10320   338    26  1326   390   416   156\n",
      "    78    26   260   182   104   104   234    39   156  4800   416   572\n",
      "    78   182 13608   130   650   130    52   182    78   832  9408   130\n",
      "    52  5664   338   286    78  2736   442  1872    78   130   494  3408\n",
      "   260   130   156    52   208  3552  5568   208   182  1014 12768  1950\n",
      "   650   130  2976   104   468  6072   416   494]\n"
     ]
    }
   ],
   "source": [
    "y_predi = taxi_model.best_estimator_.predict(X_test)\n",
    "print(y_predi)"
   ]
  },
  {
   "cell_type": "code",
   "execution_count": 151,
   "id": "6a37d779",
   "metadata": {},
   "outputs": [
    {
     "name": "stdout",
     "output_type": "stream",
     "text": [
      "Report : \n",
      "              precision    recall  f1-score   support\n",
      "\n",
      "          13       0.00      0.00      0.00         1\n",
      "          26       0.86      1.00      0.92         6\n",
      "          39       1.00      1.00      1.00         1\n",
      "          52       1.00      1.00      1.00         9\n",
      "          78       1.00      1.00      1.00        12\n",
      "         104       1.00      1.00      1.00         8\n",
      "         130       1.00      0.80      0.89        10\n",
      "         156       0.75      1.00      0.86         6\n",
      "         182       1.00      1.00      1.00        11\n",
      "         208       1.00      1.00      1.00         6\n",
      "         234       1.00      1.00      1.00         3\n",
      "         260       1.00      1.00      1.00         6\n",
      "         286       1.00      1.00      1.00         3\n",
      "         312       1.00      1.00      1.00         3\n",
      "         338       1.00      1.00      1.00         3\n",
      "         364       1.00      1.00      1.00         2\n",
      "         390       1.00      1.00      1.00         2\n",
      "         416       1.00      1.00      1.00         6\n",
      "         442       1.00      1.00      1.00         3\n",
      "         468       1.00      1.00      1.00         4\n",
      "         494       1.00      1.00      1.00         3\n",
      "         520       0.75      1.00      0.86         3\n",
      "         529       0.00      0.00      0.00         1\n",
      "         572       1.00      1.00      1.00         2\n",
      "         598       1.00      1.00      1.00         1\n",
      "         624       1.00      1.00      1.00         1\n",
      "         650       1.00      1.00      1.00         2\n",
      "         702       0.50      1.00      0.67         1\n",
      "         728       0.00      0.00      0.00         1\n",
      "         806       1.00      1.00      1.00         2\n",
      "         832       1.00      1.00      1.00         1\n",
      "        1014       1.00      1.00      1.00         1\n",
      "        1032       0.00      0.00      0.00         0\n",
      "        1040       1.00      1.00      1.00         2\n",
      "        1118       0.00      0.00      0.00         1\n",
      "        1200       0.00      0.00      0.00         0\n",
      "        1224       0.00      0.00      0.00         1\n",
      "        1248       0.00      0.00      0.00         1\n",
      "        1326       0.00      0.00      0.00         0\n",
      "        1378       0.00      0.00      0.00         1\n",
      "        1404       0.00      0.00      0.00         0\n",
      "        1430       1.00      1.00      1.00         1\n",
      "        1440       0.00      0.00      0.00         1\n",
      "        1508       0.00      0.00      0.00         0\n",
      "        1512       0.00      0.00      0.00         0\n",
      "        1632       0.00      0.00      0.00         1\n",
      "        1638       0.00      0.00      0.00         1\n",
      "        1768       0.00      0.00      0.00         0\n",
      "        1848       0.00      0.00      0.00         1\n",
      "        1872       0.00      0.00      0.00         0\n",
      "        1950       1.00      1.00      1.00         1\n",
      "        2040       0.00      0.00      0.00         0\n",
      "        2210       0.00      0.00      0.00         1\n",
      "        2448       0.00      0.00      0.00         0\n",
      "        2544       0.00      0.00      0.00         1\n",
      "        2592       0.00      0.00      0.00         0\n",
      "        2600       0.00      0.00      0.00         1\n",
      "        2736       0.00      0.00      0.00         0\n",
      "        2904       0.00      0.00      0.00         1\n",
      "        2928       0.00      0.00      0.00         1\n",
      "        2938       0.00      0.00      0.00         2\n",
      "        2976       0.00      0.00      0.00         0\n",
      "        3312       0.00      0.00      0.00         1\n",
      "        3336       0.50      1.00      0.67         1\n",
      "        3384       0.00      0.00      0.00         1\n",
      "        3408       0.00      0.00      0.00         0\n",
      "        3456       0.00      0.00      0.00         1\n",
      "        3504       0.00      0.00      0.00         0\n",
      "        3552       0.00      0.00      0.00         0\n",
      "        3576       0.00      0.00      0.00         1\n",
      "        3600       0.00      0.00      0.00         1\n",
      "        3816       0.00      0.00      0.00         2\n",
      "        4152       0.00      0.00      0.00         1\n",
      "        4200       0.00      0.00      0.00         0\n",
      "        4392       0.00      0.00      0.00         1\n",
      "        4440       0.00      0.00      0.00         0\n",
      "        4680       0.00      0.00      0.00         0\n",
      "        4704       0.00      0.00      0.00         1\n",
      "        4728       1.00      1.00      1.00         1\n",
      "        4800       0.00      0.00      0.00         0\n",
      "        4824       0.00      0.00      0.00         1\n",
      "        5016       0.00      0.00      0.00         0\n",
      "        5040       0.00      0.00      0.00         1\n",
      "        5472       1.00      1.00      1.00         1\n",
      "        5568       0.00      0.00      0.00         0\n",
      "        5616       0.00      0.00      0.00         1\n",
      "        5640       0.00      0.00      0.00         1\n",
      "        5664       0.00      0.00      0.00         0\n",
      "        6072       0.00      0.00      0.00         0\n",
      "        6120       0.00      0.00      0.00         2\n",
      "        6312       1.00      1.00      1.00         1\n",
      "        6720       0.00      0.00      0.00         1\n",
      "        6864       0.00      0.00      0.00         0\n",
      "        7200       1.00      1.00      1.00         1\n",
      "        8448       0.50      1.00      0.67         1\n",
      "        8544       0.00      0.00      0.00         1\n",
      "        9336       0.00      0.00      0.00         1\n",
      "        9408       0.00      0.00      0.00         0\n",
      "        9528       0.00      0.00      0.00         1\n",
      "       10272       0.00      0.00      0.00         1\n",
      "       10320       0.00      0.00      0.00         0\n",
      "       10440       0.00      0.00      0.00         1\n",
      "       10728       0.00      0.00      0.00         0\n",
      "       10800       0.00      0.00      0.00         1\n",
      "       11952       0.00      0.00      0.00         1\n",
      "       12024       0.00      0.00      0.00         0\n",
      "       12744       0.00      0.00      0.00         1\n",
      "       12768       0.00      0.00      0.00         0\n",
      "       12888       0.00      0.00      0.00         0\n",
      "       13080       0.00      0.00      0.00         1\n",
      "       13608       0.00      0.00      0.00         0\n",
      "       13656       0.00      0.00      0.00         1\n",
      "\n",
      "    accuracy                           0.73       176\n",
      "   macro avg       0.32      0.34      0.33       176\n",
      "weighted avg       0.72      0.73      0.72       176\n",
      "\n"
     ]
    },
    {
     "name": "stderr",
     "output_type": "stream",
     "text": [
      "C:\\ProgramData\\Anaconda3\\lib\\site-packages\\sklearn\\metrics\\_classification.py:1318: UndefinedMetricWarning: Precision and F-score are ill-defined and being set to 0.0 in labels with no predicted samples. Use `zero_division` parameter to control this behavior.\n",
      "  _warn_prf(average, modifier, msg_start, len(result))\n",
      "C:\\ProgramData\\Anaconda3\\lib\\site-packages\\sklearn\\metrics\\_classification.py:1318: UndefinedMetricWarning: Recall and F-score are ill-defined and being set to 0.0 in labels with no true samples. Use `zero_division` parameter to control this behavior.\n",
      "  _warn_prf(average, modifier, msg_start, len(result))\n",
      "C:\\ProgramData\\Anaconda3\\lib\\site-packages\\sklearn\\metrics\\_classification.py:1318: UndefinedMetricWarning: Precision and F-score are ill-defined and being set to 0.0 in labels with no predicted samples. Use `zero_division` parameter to control this behavior.\n",
      "  _warn_prf(average, modifier, msg_start, len(result))\n",
      "C:\\ProgramData\\Anaconda3\\lib\\site-packages\\sklearn\\metrics\\_classification.py:1318: UndefinedMetricWarning: Recall and F-score are ill-defined and being set to 0.0 in labels with no true samples. Use `zero_division` parameter to control this behavior.\n",
      "  _warn_prf(average, modifier, msg_start, len(result))\n",
      "C:\\ProgramData\\Anaconda3\\lib\\site-packages\\sklearn\\metrics\\_classification.py:1318: UndefinedMetricWarning: Precision and F-score are ill-defined and being set to 0.0 in labels with no predicted samples. Use `zero_division` parameter to control this behavior.\n",
      "  _warn_prf(average, modifier, msg_start, len(result))\n",
      "C:\\ProgramData\\Anaconda3\\lib\\site-packages\\sklearn\\metrics\\_classification.py:1318: UndefinedMetricWarning: Recall and F-score are ill-defined and being set to 0.0 in labels with no true samples. Use `zero_division` parameter to control this behavior.\n",
      "  _warn_prf(average, modifier, msg_start, len(result))\n"
     ]
    }
   ],
   "source": [
    "report = classification_report(y_test, y_predi)\n",
    "print(\"Report : \\n{}\".format(report))"
   ]
  },
  {
   "cell_type": "code",
   "execution_count": 152,
   "id": "a868bfb3",
   "metadata": {},
   "outputs": [
    {
     "data": {
      "text/plain": [
       "<AxesSubplot:>"
      ]
     },
     "execution_count": 152,
     "metadata": {},
     "output_type": "execute_result"
    },
    {
     "data": {
      "image/png": "[encoded data removed]",
      "text/plain": [
       "<Figure size 720x504 with 2 Axes>"
      ]
     },
     "metadata": {},
     "output_type": "display_data"
    }
   ],
   "source": [
    "cm = confusion_matrix(y_test, y_predi)\n",
    "\n",
    "sns.heatmap(cm,annot=True,cmap='Blues')"
   ]
  },
  {
   "cell_type": "code",
   "execution_count": 153,
   "id": "8db151c7",
   "metadata": {},
   "outputs": [],
   "source": [
    "pickle.dump(taxi_model.best_estimator_,open(\"taxi_model.pkl\",'wb'))"
   ]
  },
  {
   "cell_type": "code",
   "execution_count": 154,
   "id": "131ed62e",
   "metadata": {},
   "outputs": [],
   "source": [
    "taximodel1 = pickle.load(open(\"taxi_model.pkl\",'rb'))"
   ]
  },
  {
   "cell_type": "code",
   "execution_count": 155,
   "id": "f6ca8145",
   "metadata": {},
   "outputs": [
    {
     "data": {
      "text/html": [
       "<div>\n",
       "<style scoped>\n",
       "    .dataframe tbody tr th:only-of-type {\n",
       "        vertical-align: middle;\n",
       "    }\n",
       "\n",
       "    .dataframe tbody tr th {\n",
       "        vertical-align: top;\n",
       "    }\n",
       "\n",
       "    .dataframe thead th {\n",
       "        text-align: right;\n",
       "    }\n",
       "</style>\n",
       "<table border=\"1\" class=\"dataframe\">\n",
       "  <thead>\n",
       "    <tr style=\"text-align: right;\">\n",
       "      <th></th>\n",
       "      <th>From</th>\n",
       "      <th>To</th>\n",
       "      <th>Distance(km)</th>\n",
       "      <th>Fuel Price</th>\n",
       "      <th>Fuel Consumption</th>\n",
       "    </tr>\n",
       "  </thead>\n",
       "  <tbody>\n",
       "    <tr>\n",
       "      <th>281</th>\n",
       "      <td>2</td>\n",
       "      <td>38</td>\n",
       "      <td>12.0</td>\n",
       "      <td>82.12</td>\n",
       "      <td>2.4</td>\n",
       "    </tr>\n",
       "  </tbody>\n",
       "</table>\n",
       "</div>"
      ],
      "text/plain": [
       "     From  To  Distance(km)  Fuel Price  Fuel Consumption\n",
       "281     2  38          12.0       82.12               2.4"
      ]
     },
     "execution_count": 155,
     "metadata": {},
     "output_type": "execute_result"
    }
   ],
   "source": [
    "samp = X_test.iloc[0:1,:]\n",
    "samp"
   ]
  },
  {
   "cell_type": "code",
   "execution_count": 156,
   "id": "80bc532e",
   "metadata": {},
   "outputs": [
    {
     "data": {
      "text/plain": [
       "312"
      ]
     },
     "execution_count": 156,
     "metadata": {},
     "output_type": "execute_result"
    }
   ],
   "source": [
    "model.predict(samp)[0]"
   ]
  },
  {
   "cell_type": "code",
   "execution_count": 157,
   "id": "875e940c",
   "metadata": {},
   "outputs": [
    {
     "data": {
      "text/plain": [
       "array([312], dtype=int64)"
      ]
     },
     "execution_count": 157,
     "metadata": {},
     "output_type": "execute_result"
    }
   ],
   "source": [
    "taximodel1.predict(samp)"
   ]
  },
  {
   "cell_type": "code",
   "execution_count": 158,
   "id": "f704854c",
   "metadata": {},
   "outputs": [
    {
     "data": {
      "text/plain": [
       "0.9583333333333334"
      ]
     },
     "execution_count": 158,
     "metadata": {},
     "output_type": "execute_result"
    }
   ],
   "source": [
    "taximodel1.score(X_train,y_train)"
   ]
  },
  {
   "cell_type": "code",
   "execution_count": 159,
   "id": "ed0cf4d2",
   "metadata": {},
   "outputs": [
    {
     "data": {
      "text/plain": [
       "0.7329545454545454"
      ]
     },
     "execution_count": 159,
     "metadata": {},
     "output_type": "execute_result"
    }
   ],
   "source": [
    "taximodel1.score(X_test,y_test)"
   ]
  },
  {
   "cell_type": "code",
   "execution_count": null,
   "id": "f7289130",
   "metadata": {},
   "outputs": [],
   "source": []
  }
 ],
 "metadata": {
  "kernelspec": {
   "display_name": "Python 3 (ipykernel)",
   "language": "python",
   "name": "python3"
  },
  "language_info": {
   "codemirror_mode": {
    "name": "ipython",
    "version": 3
   },
   "file_extension": ".py",
   "mimetype": "text/x-python",
   "name": "python",
   "nbconvert_exporter": "python",
   "pygments_lexer": "ipython3",
   "version": "3.9.12"
  }
 },
 "nbformat": 4,
 "nbformat_minor": 5
}
